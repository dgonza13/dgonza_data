{
 "cells": [
  {
   "cell_type": "markdown",
   "id": "65be0054",
   "metadata": {},
   "source": [
    "# Header 1\n",
    "## Header 2\n",
    "### Header 3\n",
    "#### Header 4"
   ]
  },
  {
   "cell_type": "markdown",
   "id": "1125449f",
   "metadata": {},
   "source": [
    "1. Dominic\n",
    "2. Gonzalez\n",
    "3. Kent State"
   ]
  },
  {
   "cell_type": "markdown",
   "id": "16fa6b30",
   "metadata": {},
   "source": [
    "Hello World!\n",
    "\n",
    "We are learning Markdown."
   ]
  },
  {
   "cell_type": "markdown",
   "id": "80bf6e69",
   "metadata": {},
   "source": [
    "![](https://www.python.org/static/community_logos/python-logo-master-v3-TM.png)"
   ]
  },
  {
   "cell_type": "markdown",
   "id": "eed6cc8f",
   "metadata": {},
   "source": [
    "What I hope to get out of this class is understanding how to code and interpret data correctly. Working with data and code has never been my strength, therefore, I want to learn all I can and ensure that I can confidently pass this course with the skills necessary"
   ]
  },
  {
   "cell_type": "code",
   "execution_count": null,
   "id": "8bd6d3d8",
   "metadata": {},
   "outputs": [],
   "source": []
  }
 ],
 "metadata": {
  "kernelspec": {
   "display_name": "Python 3 (ipykernel)",
   "language": "python",
   "name": "python3"
  },
  "language_info": {
   "codemirror_mode": {
    "name": "ipython",
    "version": 3
   },
   "file_extension": ".py",
   "mimetype": "text/x-python",
   "name": "python",
   "nbconvert_exporter": "python",
   "pygments_lexer": "ipython3",
   "version": "3.11.4"
  }
 },
 "nbformat": 4,
 "nbformat_minor": 5
}
