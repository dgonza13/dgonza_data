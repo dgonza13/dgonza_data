{
 "cells": [
  {
   "cell_type": "markdown",
   "id": "b0856951",
   "metadata": {},
   "source": [
    "# Dominic's Spotify Analysis Report (21 November 2023)"
   ]
  },
  {
   "cell_type": "code",
   "execution_count": 1,
   "id": "eaa5f666",
   "metadata": {},
   "outputs": [],
   "source": [
    "import pandas as pd\n",
    "import requests\n",
    "import base64\n",
    "import json\n",
    "import urllib\n",
    "from matplotlib import pyplot as plt\n",
    "import numpy as np\n",
    "from scipy import stats"
   ]
  },
  {
   "cell_type": "markdown",
   "id": "989229e8",
   "metadata": {},
   "source": [
    "The source and structure of the data used in this report originated from Spotify for Developers. This is a useful tool presented directly from Spotify that allows the user to utilize Web API to retrieve information from the Spotify catalog about artists, tracks, and playlists. It contains large amounts of data that are useful for working with.\n",
    "\n",
    "In the code below, I have commented out my personal data, keys, tokens, and secrets. The process used my specific Spotify information and account."
   ]
  },
  {
   "cell_type": "code",
   "execution_count": 2,
   "id": "0d1ccaa8",
   "metadata": {},
   "outputs": [],
   "source": [
    "Client_ID = pd.read_csv('Spotify_IDs')['Client_ID'].iloc[0]"
   ]
  },
  {
   "cell_type": "code",
   "execution_count": 3,
   "id": "22196bd9",
   "metadata": {},
   "outputs": [],
   "source": [
    "Client_Secret = pd.read_csv('Spotify_IDs')['Client_Secret'].iloc[0]"
   ]
  },
  {
   "cell_type": "code",
   "execution_count": 4,
   "id": "bd14d1a3",
   "metadata": {},
   "outputs": [],
   "source": [
    "# Client_ID"
   ]
  },
  {
   "cell_type": "code",
   "execution_count": 5,
   "id": "3c7aa3e6",
   "metadata": {},
   "outputs": [],
   "source": [
    "# Client_Secret"
   ]
  },
  {
   "cell_type": "code",
   "execution_count": 6,
   "id": "68cb0a25",
   "metadata": {},
   "outputs": [],
   "source": [
    "client_cred = base64.b64encode(str(Client_ID + \":\" + Client_Secret).encode(\"ascii\"))"
   ]
  },
  {
   "cell_type": "code",
   "execution_count": 7,
   "id": "4772d6d2",
   "metadata": {},
   "outputs": [],
   "source": [
    "# client_cred"
   ]
  },
  {
   "cell_type": "code",
   "execution_count": 8,
   "id": "28394bcf",
   "metadata": {},
   "outputs": [],
   "source": [
    "headers = {\"Authorization\": \"Basic {}\".format(client_cred.decode(\"ascii\"))}"
   ]
  },
  {
   "cell_type": "code",
   "execution_count": 9,
   "id": "5015c8f3",
   "metadata": {},
   "outputs": [],
   "source": [
    "# headers"
   ]
  },
  {
   "cell_type": "code",
   "execution_count": 10,
   "id": "e5d4f18d",
   "metadata": {},
   "outputs": [],
   "source": [
    "payload = {'grant_type' : 'client_credentials'}\n",
    "url = 'https://accounts.spotify.com/api/token'"
   ]
  },
  {
   "cell_type": "code",
   "execution_count": 11,
   "id": "43dcaeea",
   "metadata": {},
   "outputs": [],
   "source": [
    "session_key_response = requests.post(url = url, data = payload, headers = headers)"
   ]
  },
  {
   "cell_type": "code",
   "execution_count": 12,
   "id": "690d9d30",
   "metadata": {},
   "outputs": [
    {
     "data": {
      "text/plain": [
       "200"
      ]
     },
     "execution_count": 12,
     "metadata": {},
     "output_type": "execute_result"
    }
   ],
   "source": [
    "session_key_response.status_code"
   ]
  },
  {
   "cell_type": "code",
   "execution_count": 13,
   "id": "25ae253e",
   "metadata": {},
   "outputs": [],
   "source": [
    "# session_key_response.json()['access_token']"
   ]
  },
  {
   "cell_type": "code",
   "execution_count": 14,
   "id": "99cd507b",
   "metadata": {},
   "outputs": [],
   "source": [
    "session_header_key = session_key_response.json()"
   ]
  },
  {
   "cell_type": "code",
   "execution_count": 15,
   "id": "20bd3fc8",
   "metadata": {},
   "outputs": [],
   "source": [
    "key = session_header_key['access_token']"
   ]
  },
  {
   "cell_type": "code",
   "execution_count": 16,
   "id": "90e0d8ac",
   "metadata": {},
   "outputs": [],
   "source": [
    "session_headers = {\"Authorization\": \"Bearer {}\".format(key)}"
   ]
  },
  {
   "cell_type": "code",
   "execution_count": 17,
   "id": "ca0499f6",
   "metadata": {},
   "outputs": [],
   "source": [
    "# session_headers"
   ]
  },
  {
   "cell_type": "markdown",
   "id": "8a12e24a",
   "metadata": {},
   "source": [
    "The following code searches for the album by Luke Combs, \"What You See Ain't Always What You Get\" \n",
    "\n",
    "I chose this album because Luke Combs was the first country artist that ever resonated with me. I have a love and passion for country music that I feel many people may not understand unless you are a true country fan. Nevertheless, this album is important to me because Luke Combs is one of my favorite country singers. I have never been to a concert before and I have always said that it will be the first concert I'll ever attend."
   ]
  },
  {
   "cell_type": "code",
   "execution_count": 18,
   "id": "fb3772d5",
   "metadata": {},
   "outputs": [],
   "source": [
    "#Luke Combs\n",
    "search_url = 'https://api.spotify.com/v1/albums/25TJxI6ZH6XjT8geRQAFz5' #Luke Combs Album URL"
   ]
  },
  {
   "cell_type": "code",
   "execution_count": 19,
   "id": "8c818874",
   "metadata": {},
   "outputs": [],
   "source": [
    "search_result = requests.get(search_url, headers = session_headers)"
   ]
  },
  {
   "cell_type": "code",
   "execution_count": 20,
   "id": "016231bc",
   "metadata": {},
   "outputs": [],
   "source": [
    "combs_tracks_results = search_result.json() "
   ]
  },
  {
   "cell_type": "code",
   "execution_count": 21,
   "id": "206a6712",
   "metadata": {},
   "outputs": [
    {
     "data": {
      "text/plain": [
       "dict_keys(['album_type', 'artists', 'available_markets', 'copyrights', 'external_ids', 'external_urls', 'genres', 'href', 'id', 'images', 'label', 'name', 'popularity', 'release_date', 'release_date_precision', 'total_tracks', 'tracks', 'type', 'uri'])"
      ]
     },
     "execution_count": 21,
     "metadata": {},
     "output_type": "execute_result"
    }
   ],
   "source": [
    "combs_tracks_results.keys() #keys within the album"
   ]
  },
  {
   "cell_type": "code",
   "execution_count": 22,
   "id": "ea5c92cc",
   "metadata": {},
   "outputs": [
    {
     "data": {
      "text/plain": [
       "dict_keys(['artists', 'available_markets', 'disc_number', 'duration_ms', 'explicit', 'external_urls', 'href', 'id', 'is_local', 'name', 'preview_url', 'track_number', 'type', 'uri'])"
      ]
     },
     "execution_count": 22,
     "metadata": {},
     "output_type": "execute_result"
    }
   ],
   "source": [
    "combs_tracks_results['tracks']['items'][0].keys() #pulling the tracks & items keys from within the album"
   ]
  },
  {
   "cell_type": "code",
   "execution_count": 23,
   "id": "1aeadaed",
   "metadata": {},
   "outputs": [],
   "source": [
    "combs_tracks_df = pd.DataFrame(combs_tracks_results['tracks']['items'])\n",
    "#create a DataFrame based on the tracks and items within the album"
   ]
  },
  {
   "cell_type": "code",
   "execution_count": 24,
   "id": "525619df",
   "metadata": {},
   "outputs": [
    {
     "data": {
      "text/html": [
       "<div>\n",
       "<style scoped>\n",
       "    .dataframe tbody tr th:only-of-type {\n",
       "        vertical-align: middle;\n",
       "    }\n",
       "\n",
       "    .dataframe tbody tr th {\n",
       "        vertical-align: top;\n",
       "    }\n",
       "\n",
       "    .dataframe thead th {\n",
       "        text-align: right;\n",
       "    }\n",
       "</style>\n",
       "<table border=\"1\" class=\"dataframe\">\n",
       "  <thead>\n",
       "    <tr style=\"text-align: right;\">\n",
       "      <th></th>\n",
       "      <th>artists</th>\n",
       "      <th>available_markets</th>\n",
       "      <th>disc_number</th>\n",
       "      <th>duration_ms</th>\n",
       "      <th>explicit</th>\n",
       "      <th>external_urls</th>\n",
       "      <th>href</th>\n",
       "      <th>id</th>\n",
       "      <th>is_local</th>\n",
       "      <th>name</th>\n",
       "      <th>preview_url</th>\n",
       "      <th>track_number</th>\n",
       "      <th>type</th>\n",
       "      <th>uri</th>\n",
       "    </tr>\n",
       "  </thead>\n",
       "  <tbody>\n",
       "    <tr>\n",
       "      <th>0</th>\n",
       "      <td>[{'external_urls': {'spotify': 'https://open.s...</td>\n",
       "      <td>[AR, AU, AT, BE, BO, BR, BG, CA, CL, CO, CR, C...</td>\n",
       "      <td>1</td>\n",
       "      <td>186733</td>\n",
       "      <td>False</td>\n",
       "      <td>{'spotify': 'https://open.spotify.com/track/3t...</td>\n",
       "      <td>https://api.spotify.com/v1/tracks/3t5CI2xqUByt...</td>\n",
       "      <td>3t5CI2xqUBytrGJGsBqmUV</td>\n",
       "      <td>False</td>\n",
       "      <td>Beer Never Broke My Heart</td>\n",
       "      <td>https://p.scdn.co/mp3-preview/545db391946df7d9...</td>\n",
       "      <td>1</td>\n",
       "      <td>track</td>\n",
       "      <td>spotify:track:3t5CI2xqUBytrGJGsBqmUV</td>\n",
       "    </tr>\n",
       "    <tr>\n",
       "      <th>1</th>\n",
       "      <td>[{'external_urls': {'spotify': 'https://open.s...</td>\n",
       "      <td>[AR, AU, AT, BE, BO, BR, BG, CA, CL, CO, CR, C...</td>\n",
       "      <td>1</td>\n",
       "      <td>204240</td>\n",
       "      <td>False</td>\n",
       "      <td>{'spotify': 'https://open.spotify.com/track/70...</td>\n",
       "      <td>https://api.spotify.com/v1/tracks/70ECd4rOaE5a...</td>\n",
       "      <td>70ECd4rOaE5aSNTPLMB8DS</td>\n",
       "      <td>False</td>\n",
       "      <td>Refrigerator Door</td>\n",
       "      <td>https://p.scdn.co/mp3-preview/e0cbfe82d6902831...</td>\n",
       "      <td>2</td>\n",
       "      <td>track</td>\n",
       "      <td>spotify:track:70ECd4rOaE5aSNTPLMB8DS</td>\n",
       "    </tr>\n",
       "    <tr>\n",
       "      <th>2</th>\n",
       "      <td>[{'external_urls': {'spotify': 'https://open.s...</td>\n",
       "      <td>[AR, AU, AT, BE, BO, BR, BG, CA, CL, CO, CR, C...</td>\n",
       "      <td>1</td>\n",
       "      <td>225253</td>\n",
       "      <td>False</td>\n",
       "      <td>{'spotify': 'https://open.spotify.com/track/5J...</td>\n",
       "      <td>https://api.spotify.com/v1/tracks/5JpI6jI6wKwk...</td>\n",
       "      <td>5JpI6jI6wKwk0wZJ6VN75b</td>\n",
       "      <td>False</td>\n",
       "      <td>Even Though I'm Leaving</td>\n",
       "      <td>https://p.scdn.co/mp3-preview/5dc213a8764007bc...</td>\n",
       "      <td>3</td>\n",
       "      <td>track</td>\n",
       "      <td>spotify:track:5JpI6jI6wKwk0wZJ6VN75b</td>\n",
       "    </tr>\n",
       "    <tr>\n",
       "      <th>3</th>\n",
       "      <td>[{'external_urls': {'spotify': 'https://open.s...</td>\n",
       "      <td>[AR, AU, AT, BE, BO, BR, BG, CA, CL, CO, CR, C...</td>\n",
       "      <td>1</td>\n",
       "      <td>194866</td>\n",
       "      <td>False</td>\n",
       "      <td>{'spotify': 'https://open.spotify.com/track/0I...</td>\n",
       "      <td>https://api.spotify.com/v1/tracks/0IyIAxDXYOJM...</td>\n",
       "      <td>0IyIAxDXYOJMHLsTLrbOfy</td>\n",
       "      <td>False</td>\n",
       "      <td>Lovin' On You</td>\n",
       "      <td>https://p.scdn.co/mp3-preview/05df3c5e3aef5e4f...</td>\n",
       "      <td>4</td>\n",
       "      <td>track</td>\n",
       "      <td>spotify:track:0IyIAxDXYOJMHLsTLrbOfy</td>\n",
       "    </tr>\n",
       "    <tr>\n",
       "      <th>4</th>\n",
       "      <td>[{'external_urls': {'spotify': 'https://open.s...</td>\n",
       "      <td>[AR, AU, AT, BE, BO, BR, BG, CA, CL, CO, CR, C...</td>\n",
       "      <td>1</td>\n",
       "      <td>204640</td>\n",
       "      <td>False</td>\n",
       "      <td>{'spotify': 'https://open.spotify.com/track/2U...</td>\n",
       "      <td>https://api.spotify.com/v1/tracks/2UWFCFlnz7n4...</td>\n",
       "      <td>2UWFCFlnz7n4CD1hWZDyIw</td>\n",
       "      <td>False</td>\n",
       "      <td>Moon Over Mexico</td>\n",
       "      <td>https://p.scdn.co/mp3-preview/96ff781769d99c89...</td>\n",
       "      <td>5</td>\n",
       "      <td>track</td>\n",
       "      <td>spotify:track:2UWFCFlnz7n4CD1hWZDyIw</td>\n",
       "    </tr>\n",
       "  </tbody>\n",
       "</table>\n",
       "</div>"
      ],
      "text/plain": [
       "                                             artists  \\\n",
       "0  [{'external_urls': {'spotify': 'https://open.s...   \n",
       "1  [{'external_urls': {'spotify': 'https://open.s...   \n",
       "2  [{'external_urls': {'spotify': 'https://open.s...   \n",
       "3  [{'external_urls': {'spotify': 'https://open.s...   \n",
       "4  [{'external_urls': {'spotify': 'https://open.s...   \n",
       "\n",
       "                                   available_markets  disc_number  \\\n",
       "0  [AR, AU, AT, BE, BO, BR, BG, CA, CL, CO, CR, C...            1   \n",
       "1  [AR, AU, AT, BE, BO, BR, BG, CA, CL, CO, CR, C...            1   \n",
       "2  [AR, AU, AT, BE, BO, BR, BG, CA, CL, CO, CR, C...            1   \n",
       "3  [AR, AU, AT, BE, BO, BR, BG, CA, CL, CO, CR, C...            1   \n",
       "4  [AR, AU, AT, BE, BO, BR, BG, CA, CL, CO, CR, C...            1   \n",
       "\n",
       "   duration_ms  explicit                                      external_urls  \\\n",
       "0       186733     False  {'spotify': 'https://open.spotify.com/track/3t...   \n",
       "1       204240     False  {'spotify': 'https://open.spotify.com/track/70...   \n",
       "2       225253     False  {'spotify': 'https://open.spotify.com/track/5J...   \n",
       "3       194866     False  {'spotify': 'https://open.spotify.com/track/0I...   \n",
       "4       204640     False  {'spotify': 'https://open.spotify.com/track/2U...   \n",
       "\n",
       "                                                href                      id  \\\n",
       "0  https://api.spotify.com/v1/tracks/3t5CI2xqUByt...  3t5CI2xqUBytrGJGsBqmUV   \n",
       "1  https://api.spotify.com/v1/tracks/70ECd4rOaE5a...  70ECd4rOaE5aSNTPLMB8DS   \n",
       "2  https://api.spotify.com/v1/tracks/5JpI6jI6wKwk...  5JpI6jI6wKwk0wZJ6VN75b   \n",
       "3  https://api.spotify.com/v1/tracks/0IyIAxDXYOJM...  0IyIAxDXYOJMHLsTLrbOfy   \n",
       "4  https://api.spotify.com/v1/tracks/2UWFCFlnz7n4...  2UWFCFlnz7n4CD1hWZDyIw   \n",
       "\n",
       "   is_local                       name  \\\n",
       "0     False  Beer Never Broke My Heart   \n",
       "1     False          Refrigerator Door   \n",
       "2     False    Even Though I'm Leaving   \n",
       "3     False              Lovin' On You   \n",
       "4     False           Moon Over Mexico   \n",
       "\n",
       "                                         preview_url  track_number   type  \\\n",
       "0  https://p.scdn.co/mp3-preview/545db391946df7d9...             1  track   \n",
       "1  https://p.scdn.co/mp3-preview/e0cbfe82d6902831...             2  track   \n",
       "2  https://p.scdn.co/mp3-preview/5dc213a8764007bc...             3  track   \n",
       "3  https://p.scdn.co/mp3-preview/05df3c5e3aef5e4f...             4  track   \n",
       "4  https://p.scdn.co/mp3-preview/96ff781769d99c89...             5  track   \n",
       "\n",
       "                                    uri  \n",
       "0  spotify:track:3t5CI2xqUBytrGJGsBqmUV  \n",
       "1  spotify:track:70ECd4rOaE5aSNTPLMB8DS  \n",
       "2  spotify:track:5JpI6jI6wKwk0wZJ6VN75b  \n",
       "3  spotify:track:0IyIAxDXYOJMHLsTLrbOfy  \n",
       "4  spotify:track:2UWFCFlnz7n4CD1hWZDyIw  "
      ]
     },
     "execution_count": 24,
     "metadata": {},
     "output_type": "execute_result"
    }
   ],
   "source": [
    "combs_tracks_df.head() #visualize the head of that DataFrame"
   ]
  },
  {
   "cell_type": "code",
   "execution_count": 25,
   "id": "d99cd468",
   "metadata": {},
   "outputs": [],
   "source": [
    "first_artist = [x['artists'][0]['name'] for x in combs_tracks_results['tracks']['items']]"
   ]
  },
  {
   "cell_type": "code",
   "execution_count": 26,
   "id": "8a86bdcd",
   "metadata": {},
   "outputs": [],
   "source": [
    "combs_tracks_df['first_artist'] = first_artist"
   ]
  },
  {
   "cell_type": "code",
   "execution_count": 27,
   "id": "d620dc9b",
   "metadata": {},
   "outputs": [
    {
     "data": {
      "text/plain": [
       "'3t5CI2xqUBytrGJGsBqmUV%2C70ECd4rOaE5aSNTPLMB8DS%2C5JpI6jI6wKwk0wZJ6VN75b%2C0IyIAxDXYOJMHLsTLrbOfy%2C2UWFCFlnz7n4CD1hWZDyIw%2C7MJCMDMjIfy2uyhy0BmG4v%2C14pAyQr2df47wNP0edKeAX%2C7oBSMKLGwAo1RNILzordRQ%2C2gw4p9rDwZTMpLDEFEQk3p%2C3xPEt3xIfaww7C0jeO5EoT%2C1qF3tGI2bBOPm6G5pygE15%2C42xGVMSeNRGMwNwAAKae4B%2C5YL4b69ecFCG6bfZIY2lI7%2C0dGt5iXBcHZWMN8N8EmJIP%2C5qJX56Oh2tnM3yVYs9Tz63%2C1vms08pCx138Xa2mstygP0%2C4UkVEMXCcbKJRHoeGhs3I8%2C0tDOIR44aeHGLB5gpK1Gfn%2C7IWV29mryrqtO0JVgnPtfv%2C0jcZ1uIHmvh6Is9T6hXOUk%2C3PwtBxiuJGVGHFfHjOjTpY%2C3zxAw8PaqpeGZ3Pakkxv3J%2C6IBcOGPsniK3Pso1wHIhew'"
      ]
     },
     "execution_count": 27,
     "metadata": {},
     "output_type": "execute_result"
    }
   ],
   "source": [
    "urllib.parse.quote(','.join(list(combs_tracks_df['id'])))"
   ]
  },
  {
   "cell_type": "code",
   "execution_count": 28,
   "id": "06d59d50",
   "metadata": {},
   "outputs": [],
   "source": [
    "combs_audio_features_url = 'https://api.spotify.com/v1/audio-features?ids={}'.format(urllib.parse.quote(','.join(list(combs_tracks_df['id']))))"
   ]
  },
  {
   "cell_type": "code",
   "execution_count": 29,
   "id": "a1e93d1b",
   "metadata": {},
   "outputs": [],
   "source": [
    "features_response = requests.get(url = combs_audio_features_url, headers = session_headers)"
   ]
  },
  {
   "cell_type": "code",
   "execution_count": 30,
   "id": "f22bf16f",
   "metadata": {},
   "outputs": [],
   "source": [
    "combs_track_features = features_response.json()"
   ]
  },
  {
   "cell_type": "code",
   "execution_count": 31,
   "id": "641234dd",
   "metadata": {},
   "outputs": [],
   "source": [
    "combs_track_features_df = pd.DataFrame(combs_track_features['audio_features']) "
   ]
  },
  {
   "cell_type": "code",
   "execution_count": 32,
   "id": "c1ee20be",
   "metadata": {},
   "outputs": [
    {
     "data": {
      "text/html": [
       "<div>\n",
       "<style scoped>\n",
       "    .dataframe tbody tr th:only-of-type {\n",
       "        vertical-align: middle;\n",
       "    }\n",
       "\n",
       "    .dataframe tbody tr th {\n",
       "        vertical-align: top;\n",
       "    }\n",
       "\n",
       "    .dataframe thead th {\n",
       "        text-align: right;\n",
       "    }\n",
       "</style>\n",
       "<table border=\"1\" class=\"dataframe\">\n",
       "  <thead>\n",
       "    <tr style=\"text-align: right;\">\n",
       "      <th></th>\n",
       "      <th>danceability</th>\n",
       "      <th>energy</th>\n",
       "      <th>key</th>\n",
       "      <th>loudness</th>\n",
       "      <th>mode</th>\n",
       "      <th>speechiness</th>\n",
       "      <th>acousticness</th>\n",
       "      <th>instrumentalness</th>\n",
       "      <th>liveness</th>\n",
       "      <th>valence</th>\n",
       "      <th>tempo</th>\n",
       "      <th>type</th>\n",
       "      <th>id</th>\n",
       "      <th>uri</th>\n",
       "      <th>track_href</th>\n",
       "      <th>analysis_url</th>\n",
       "      <th>duration_ms</th>\n",
       "      <th>time_signature</th>\n",
       "    </tr>\n",
       "  </thead>\n",
       "  <tbody>\n",
       "    <tr>\n",
       "      <th>0</th>\n",
       "      <td>0.538</td>\n",
       "      <td>0.863</td>\n",
       "      <td>1</td>\n",
       "      <td>-4.483</td>\n",
       "      <td>1</td>\n",
       "      <td>0.0481</td>\n",
       "      <td>0.01390</td>\n",
       "      <td>0.000000</td>\n",
       "      <td>0.0874</td>\n",
       "      <td>0.637</td>\n",
       "      <td>77.001</td>\n",
       "      <td>audio_features</td>\n",
       "      <td>3t5CI2xqUBytrGJGsBqmUV</td>\n",
       "      <td>spotify:track:3t5CI2xqUBytrGJGsBqmUV</td>\n",
       "      <td>https://api.spotify.com/v1/tracks/3t5CI2xqUByt...</td>\n",
       "      <td>https://api.spotify.com/v1/audio-analysis/3t5C...</td>\n",
       "      <td>186733</td>\n",
       "      <td>4</td>\n",
       "    </tr>\n",
       "    <tr>\n",
       "      <th>1</th>\n",
       "      <td>0.459</td>\n",
       "      <td>0.864</td>\n",
       "      <td>1</td>\n",
       "      <td>-4.397</td>\n",
       "      <td>1</td>\n",
       "      <td>0.0590</td>\n",
       "      <td>0.01100</td>\n",
       "      <td>0.000003</td>\n",
       "      <td>0.3140</td>\n",
       "      <td>0.623</td>\n",
       "      <td>74.867</td>\n",
       "      <td>audio_features</td>\n",
       "      <td>70ECd4rOaE5aSNTPLMB8DS</td>\n",
       "      <td>spotify:track:70ECd4rOaE5aSNTPLMB8DS</td>\n",
       "      <td>https://api.spotify.com/v1/tracks/70ECd4rOaE5a...</td>\n",
       "      <td>https://api.spotify.com/v1/audio-analysis/70EC...</td>\n",
       "      <td>204240</td>\n",
       "      <td>4</td>\n",
       "    </tr>\n",
       "    <tr>\n",
       "      <th>2</th>\n",
       "      <td>0.554</td>\n",
       "      <td>0.755</td>\n",
       "      <td>2</td>\n",
       "      <td>-6.040</td>\n",
       "      <td>1</td>\n",
       "      <td>0.0319</td>\n",
       "      <td>0.22500</td>\n",
       "      <td>0.000000</td>\n",
       "      <td>0.3010</td>\n",
       "      <td>0.624</td>\n",
       "      <td>77.962</td>\n",
       "      <td>audio_features</td>\n",
       "      <td>5JpI6jI6wKwk0wZJ6VN75b</td>\n",
       "      <td>spotify:track:5JpI6jI6wKwk0wZJ6VN75b</td>\n",
       "      <td>https://api.spotify.com/v1/tracks/5JpI6jI6wKwk...</td>\n",
       "      <td>https://api.spotify.com/v1/audio-analysis/5JpI...</td>\n",
       "      <td>225253</td>\n",
       "      <td>4</td>\n",
       "    </tr>\n",
       "    <tr>\n",
       "      <th>3</th>\n",
       "      <td>0.572</td>\n",
       "      <td>0.949</td>\n",
       "      <td>4</td>\n",
       "      <td>-4.865</td>\n",
       "      <td>1</td>\n",
       "      <td>0.0600</td>\n",
       "      <td>0.00165</td>\n",
       "      <td>0.000195</td>\n",
       "      <td>0.1630</td>\n",
       "      <td>0.530</td>\n",
       "      <td>118.974</td>\n",
       "      <td>audio_features</td>\n",
       "      <td>0IyIAxDXYOJMHLsTLrbOfy</td>\n",
       "      <td>spotify:track:0IyIAxDXYOJMHLsTLrbOfy</td>\n",
       "      <td>https://api.spotify.com/v1/tracks/0IyIAxDXYOJM...</td>\n",
       "      <td>https://api.spotify.com/v1/audio-analysis/0IyI...</td>\n",
       "      <td>194867</td>\n",
       "      <td>4</td>\n",
       "    </tr>\n",
       "    <tr>\n",
       "      <th>4</th>\n",
       "      <td>0.493</td>\n",
       "      <td>0.772</td>\n",
       "      <td>7</td>\n",
       "      <td>-5.875</td>\n",
       "      <td>1</td>\n",
       "      <td>0.0452</td>\n",
       "      <td>0.45600</td>\n",
       "      <td>0.000003</td>\n",
       "      <td>0.1070</td>\n",
       "      <td>0.472</td>\n",
       "      <td>140.996</td>\n",
       "      <td>audio_features</td>\n",
       "      <td>2UWFCFlnz7n4CD1hWZDyIw</td>\n",
       "      <td>spotify:track:2UWFCFlnz7n4CD1hWZDyIw</td>\n",
       "      <td>https://api.spotify.com/v1/tracks/2UWFCFlnz7n4...</td>\n",
       "      <td>https://api.spotify.com/v1/audio-analysis/2UWF...</td>\n",
       "      <td>204640</td>\n",
       "      <td>4</td>\n",
       "    </tr>\n",
       "  </tbody>\n",
       "</table>\n",
       "</div>"
      ],
      "text/plain": [
       "   danceability  energy  key  loudness  mode  speechiness  acousticness  \\\n",
       "0         0.538   0.863    1    -4.483     1       0.0481       0.01390   \n",
       "1         0.459   0.864    1    -4.397     1       0.0590       0.01100   \n",
       "2         0.554   0.755    2    -6.040     1       0.0319       0.22500   \n",
       "3         0.572   0.949    4    -4.865     1       0.0600       0.00165   \n",
       "4         0.493   0.772    7    -5.875     1       0.0452       0.45600   \n",
       "\n",
       "   instrumentalness  liveness  valence    tempo            type  \\\n",
       "0          0.000000    0.0874    0.637   77.001  audio_features   \n",
       "1          0.000003    0.3140    0.623   74.867  audio_features   \n",
       "2          0.000000    0.3010    0.624   77.962  audio_features   \n",
       "3          0.000195    0.1630    0.530  118.974  audio_features   \n",
       "4          0.000003    0.1070    0.472  140.996  audio_features   \n",
       "\n",
       "                       id                                   uri  \\\n",
       "0  3t5CI2xqUBytrGJGsBqmUV  spotify:track:3t5CI2xqUBytrGJGsBqmUV   \n",
       "1  70ECd4rOaE5aSNTPLMB8DS  spotify:track:70ECd4rOaE5aSNTPLMB8DS   \n",
       "2  5JpI6jI6wKwk0wZJ6VN75b  spotify:track:5JpI6jI6wKwk0wZJ6VN75b   \n",
       "3  0IyIAxDXYOJMHLsTLrbOfy  spotify:track:0IyIAxDXYOJMHLsTLrbOfy   \n",
       "4  2UWFCFlnz7n4CD1hWZDyIw  spotify:track:2UWFCFlnz7n4CD1hWZDyIw   \n",
       "\n",
       "                                          track_href  \\\n",
       "0  https://api.spotify.com/v1/tracks/3t5CI2xqUByt...   \n",
       "1  https://api.spotify.com/v1/tracks/70ECd4rOaE5a...   \n",
       "2  https://api.spotify.com/v1/tracks/5JpI6jI6wKwk...   \n",
       "3  https://api.spotify.com/v1/tracks/0IyIAxDXYOJM...   \n",
       "4  https://api.spotify.com/v1/tracks/2UWFCFlnz7n4...   \n",
       "\n",
       "                                        analysis_url  duration_ms  \\\n",
       "0  https://api.spotify.com/v1/audio-analysis/3t5C...       186733   \n",
       "1  https://api.spotify.com/v1/audio-analysis/70EC...       204240   \n",
       "2  https://api.spotify.com/v1/audio-analysis/5JpI...       225253   \n",
       "3  https://api.spotify.com/v1/audio-analysis/0IyI...       194867   \n",
       "4  https://api.spotify.com/v1/audio-analysis/2UWF...       204640   \n",
       "\n",
       "   time_signature  \n",
       "0               4  \n",
       "1               4  \n",
       "2               4  \n",
       "3               4  \n",
       "4               4  "
      ]
     },
     "execution_count": 32,
     "metadata": {},
     "output_type": "execute_result"
    }
   ],
   "source": [
    "combs_track_features_df.head()"
   ]
  },
  {
   "cell_type": "markdown",
   "id": "eb5a4b2e",
   "metadata": {},
   "source": [
    "The next section of code is the same process used to get the album by Luke Combs, only this code is now retrieving the album information from Flordia Georgia Line, \"Anything Goes.\"\n",
    "\n",
    "I chose this album because, similar to Luke Combs, Florida Georgia Line was one of the first country artists I related to through their music. This album is significant to me simply because of the title. Anything in this life, no matter what we do, goes. You can interpret that however, you understand it. Meaning, to me, I can go anywhere and do anything I set my heart and mind to. Maybe you understand it according to the song and theme of the album, \"Anything goes on a Friday night.\" If this means to kick back, have fun, and enjoy the little things in life when you aren't buried by burdens, then so be it!"
   ]
  },
  {
   "cell_type": "code",
   "execution_count": 33,
   "id": "889ecebd",
   "metadata": {},
   "outputs": [],
   "source": [
    "#Florida Georgia Line\n",
    "search_url2 = 'https://api.spotify.com/v1/albums/5NG7WZaCZZ12M5LJm0JcVc' #Luke Combs Album URL"
   ]
  },
  {
   "cell_type": "code",
   "execution_count": 34,
   "id": "7623ea97",
   "metadata": {},
   "outputs": [],
   "source": [
    "search_result2 = requests.get(search_url2, headers = session_headers)"
   ]
  },
  {
   "cell_type": "code",
   "execution_count": 35,
   "id": "ee684161",
   "metadata": {},
   "outputs": [],
   "source": [
    "fgl_tracks_results = search_result2.json() "
   ]
  },
  {
   "cell_type": "code",
   "execution_count": 36,
   "id": "7fe11726",
   "metadata": {},
   "outputs": [
    {
     "data": {
      "text/plain": [
       "dict_keys(['album_type', 'artists', 'available_markets', 'copyrights', 'external_ids', 'external_urls', 'genres', 'href', 'id', 'images', 'label', 'name', 'popularity', 'release_date', 'release_date_precision', 'total_tracks', 'tracks', 'type', 'uri'])"
      ]
     },
     "execution_count": 36,
     "metadata": {},
     "output_type": "execute_result"
    }
   ],
   "source": [
    "fgl_tracks_results.keys() #keys within the album"
   ]
  },
  {
   "cell_type": "code",
   "execution_count": 37,
   "id": "d0363781",
   "metadata": {},
   "outputs": [
    {
     "data": {
      "text/plain": [
       "dict_keys(['artists', 'available_markets', 'disc_number', 'duration_ms', 'explicit', 'external_urls', 'href', 'id', 'is_local', 'name', 'preview_url', 'track_number', 'type', 'uri'])"
      ]
     },
     "execution_count": 37,
     "metadata": {},
     "output_type": "execute_result"
    }
   ],
   "source": [
    "fgl_tracks_results['tracks']['items'][0].keys() #pulling the tracks & items keys from within the album"
   ]
  },
  {
   "cell_type": "code",
   "execution_count": 38,
   "id": "0da072e5",
   "metadata": {},
   "outputs": [],
   "source": [
    "fgl_tracks_df = pd.DataFrame(fgl_tracks_results['tracks']['items'])\n",
    "#create a DataFrame based on the tracks and items within the album"
   ]
  },
  {
   "cell_type": "code",
   "execution_count": 39,
   "id": "c6f6be42",
   "metadata": {},
   "outputs": [
    {
     "data": {
      "text/html": [
       "<div>\n",
       "<style scoped>\n",
       "    .dataframe tbody tr th:only-of-type {\n",
       "        vertical-align: middle;\n",
       "    }\n",
       "\n",
       "    .dataframe tbody tr th {\n",
       "        vertical-align: top;\n",
       "    }\n",
       "\n",
       "    .dataframe thead th {\n",
       "        text-align: right;\n",
       "    }\n",
       "</style>\n",
       "<table border=\"1\" class=\"dataframe\">\n",
       "  <thead>\n",
       "    <tr style=\"text-align: right;\">\n",
       "      <th></th>\n",
       "      <th>artists</th>\n",
       "      <th>available_markets</th>\n",
       "      <th>disc_number</th>\n",
       "      <th>duration_ms</th>\n",
       "      <th>explicit</th>\n",
       "      <th>external_urls</th>\n",
       "      <th>href</th>\n",
       "      <th>id</th>\n",
       "      <th>is_local</th>\n",
       "      <th>name</th>\n",
       "      <th>preview_url</th>\n",
       "      <th>track_number</th>\n",
       "      <th>type</th>\n",
       "      <th>uri</th>\n",
       "    </tr>\n",
       "  </thead>\n",
       "  <tbody>\n",
       "    <tr>\n",
       "      <th>0</th>\n",
       "      <td>[{'external_urls': {'spotify': 'https://open.s...</td>\n",
       "      <td>[AR, AU, AT, BE, BO, BR, BG, CA, CL, CO, CR, C...</td>\n",
       "      <td>1</td>\n",
       "      <td>218866</td>\n",
       "      <td>False</td>\n",
       "      <td>{'spotify': 'https://open.spotify.com/track/46...</td>\n",
       "      <td>https://api.spotify.com/v1/tracks/46ZfPS5VpSQV...</td>\n",
       "      <td>46ZfPS5VpSQVU5gb82hg3K</td>\n",
       "      <td>False</td>\n",
       "      <td>Anything Goes</td>\n",
       "      <td>None</td>\n",
       "      <td>1</td>\n",
       "      <td>track</td>\n",
       "      <td>spotify:track:46ZfPS5VpSQVU5gb82hg3K</td>\n",
       "    </tr>\n",
       "    <tr>\n",
       "      <th>1</th>\n",
       "      <td>[{'external_urls': {'spotify': 'https://open.s...</td>\n",
       "      <td>[AR, AU, AT, BE, BO, BR, BG, CA, CL, CO, CR, C...</td>\n",
       "      <td>1</td>\n",
       "      <td>184706</td>\n",
       "      <td>False</td>\n",
       "      <td>{'spotify': 'https://open.spotify.com/track/0E...</td>\n",
       "      <td>https://api.spotify.com/v1/tracks/0El2Zyt68nYy...</td>\n",
       "      <td>0El2Zyt68nYySFDG87hZgM</td>\n",
       "      <td>False</td>\n",
       "      <td>Sun Daze</td>\n",
       "      <td>None</td>\n",
       "      <td>2</td>\n",
       "      <td>track</td>\n",
       "      <td>spotify:track:0El2Zyt68nYySFDG87hZgM</td>\n",
       "    </tr>\n",
       "    <tr>\n",
       "      <th>2</th>\n",
       "      <td>[{'external_urls': {'spotify': 'https://open.s...</td>\n",
       "      <td>[AR, AU, AT, BE, BO, BR, BG, CA, CL, CO, CR, C...</td>\n",
       "      <td>1</td>\n",
       "      <td>196373</td>\n",
       "      <td>False</td>\n",
       "      <td>{'spotify': 'https://open.spotify.com/track/0V...</td>\n",
       "      <td>https://api.spotify.com/v1/tracks/0VhjSCScYGOm...</td>\n",
       "      <td>0VhjSCScYGOmEKr24FBNSM</td>\n",
       "      <td>False</td>\n",
       "      <td>Good Good</td>\n",
       "      <td>None</td>\n",
       "      <td>3</td>\n",
       "      <td>track</td>\n",
       "      <td>spotify:track:0VhjSCScYGOmEKr24FBNSM</td>\n",
       "    </tr>\n",
       "    <tr>\n",
       "      <th>3</th>\n",
       "      <td>[{'external_urls': {'spotify': 'https://open.s...</td>\n",
       "      <td>[AR, AU, AT, BE, BO, BR, BG, CA, CL, CO, CR, C...</td>\n",
       "      <td>1</td>\n",
       "      <td>230586</td>\n",
       "      <td>False</td>\n",
       "      <td>{'spotify': 'https://open.spotify.com/track/5C...</td>\n",
       "      <td>https://api.spotify.com/v1/tracks/5CXnIPD6rTjs...</td>\n",
       "      <td>5CXnIPD6rTjszYYQm6fY2P</td>\n",
       "      <td>False</td>\n",
       "      <td>Dirt</td>\n",
       "      <td>None</td>\n",
       "      <td>4</td>\n",
       "      <td>track</td>\n",
       "      <td>spotify:track:5CXnIPD6rTjszYYQm6fY2P</td>\n",
       "    </tr>\n",
       "    <tr>\n",
       "      <th>4</th>\n",
       "      <td>[{'external_urls': {'spotify': 'https://open.s...</td>\n",
       "      <td>[AR, AU, AT, BE, BO, BR, BG, CA, CL, CO, CR, C...</td>\n",
       "      <td>1</td>\n",
       "      <td>169866</td>\n",
       "      <td>False</td>\n",
       "      <td>{'spotify': 'https://open.spotify.com/track/0b...</td>\n",
       "      <td>https://api.spotify.com/v1/tracks/0bPiq3JmsZEr...</td>\n",
       "      <td>0bPiq3JmsZErLIkhVqajp9</td>\n",
       "      <td>False</td>\n",
       "      <td>Smile</td>\n",
       "      <td>None</td>\n",
       "      <td>5</td>\n",
       "      <td>track</td>\n",
       "      <td>spotify:track:0bPiq3JmsZErLIkhVqajp9</td>\n",
       "    </tr>\n",
       "  </tbody>\n",
       "</table>\n",
       "</div>"
      ],
      "text/plain": [
       "                                             artists  \\\n",
       "0  [{'external_urls': {'spotify': 'https://open.s...   \n",
       "1  [{'external_urls': {'spotify': 'https://open.s...   \n",
       "2  [{'external_urls': {'spotify': 'https://open.s...   \n",
       "3  [{'external_urls': {'spotify': 'https://open.s...   \n",
       "4  [{'external_urls': {'spotify': 'https://open.s...   \n",
       "\n",
       "                                   available_markets  disc_number  \\\n",
       "0  [AR, AU, AT, BE, BO, BR, BG, CA, CL, CO, CR, C...            1   \n",
       "1  [AR, AU, AT, BE, BO, BR, BG, CA, CL, CO, CR, C...            1   \n",
       "2  [AR, AU, AT, BE, BO, BR, BG, CA, CL, CO, CR, C...            1   \n",
       "3  [AR, AU, AT, BE, BO, BR, BG, CA, CL, CO, CR, C...            1   \n",
       "4  [AR, AU, AT, BE, BO, BR, BG, CA, CL, CO, CR, C...            1   \n",
       "\n",
       "   duration_ms  explicit                                      external_urls  \\\n",
       "0       218866     False  {'spotify': 'https://open.spotify.com/track/46...   \n",
       "1       184706     False  {'spotify': 'https://open.spotify.com/track/0E...   \n",
       "2       196373     False  {'spotify': 'https://open.spotify.com/track/0V...   \n",
       "3       230586     False  {'spotify': 'https://open.spotify.com/track/5C...   \n",
       "4       169866     False  {'spotify': 'https://open.spotify.com/track/0b...   \n",
       "\n",
       "                                                href                      id  \\\n",
       "0  https://api.spotify.com/v1/tracks/46ZfPS5VpSQV...  46ZfPS5VpSQVU5gb82hg3K   \n",
       "1  https://api.spotify.com/v1/tracks/0El2Zyt68nYy...  0El2Zyt68nYySFDG87hZgM   \n",
       "2  https://api.spotify.com/v1/tracks/0VhjSCScYGOm...  0VhjSCScYGOmEKr24FBNSM   \n",
       "3  https://api.spotify.com/v1/tracks/5CXnIPD6rTjs...  5CXnIPD6rTjszYYQm6fY2P   \n",
       "4  https://api.spotify.com/v1/tracks/0bPiq3JmsZEr...  0bPiq3JmsZErLIkhVqajp9   \n",
       "\n",
       "   is_local           name preview_url  track_number   type  \\\n",
       "0     False  Anything Goes        None             1  track   \n",
       "1     False       Sun Daze        None             2  track   \n",
       "2     False      Good Good        None             3  track   \n",
       "3     False           Dirt        None             4  track   \n",
       "4     False          Smile        None             5  track   \n",
       "\n",
       "                                    uri  \n",
       "0  spotify:track:46ZfPS5VpSQVU5gb82hg3K  \n",
       "1  spotify:track:0El2Zyt68nYySFDG87hZgM  \n",
       "2  spotify:track:0VhjSCScYGOmEKr24FBNSM  \n",
       "3  spotify:track:5CXnIPD6rTjszYYQm6fY2P  \n",
       "4  spotify:track:0bPiq3JmsZErLIkhVqajp9  "
      ]
     },
     "execution_count": 39,
     "metadata": {},
     "output_type": "execute_result"
    }
   ],
   "source": [
    "fgl_tracks_df.head() #visualize the head of that DataFrame"
   ]
  },
  {
   "cell_type": "code",
   "execution_count": 40,
   "id": "1be54ae3",
   "metadata": {},
   "outputs": [],
   "source": [
    "second_artist = [x['artists'][0]['name'] for x in fgl_tracks_results['tracks']['items']]"
   ]
  },
  {
   "cell_type": "code",
   "execution_count": 41,
   "id": "f2880f21",
   "metadata": {},
   "outputs": [],
   "source": [
    "fgl_tracks_df['second_artist'] = second_artist"
   ]
  },
  {
   "cell_type": "code",
   "execution_count": 42,
   "id": "367dbe0b",
   "metadata": {},
   "outputs": [
    {
     "data": {
      "text/plain": [
       "'46ZfPS5VpSQVU5gb82hg3K%2C0El2Zyt68nYySFDG87hZgM%2C0VhjSCScYGOmEKr24FBNSM%2C5CXnIPD6rTjszYYQm6fY2P%2C0bPiq3JmsZErLIkhVqajp9%2C0H9Q7Vzu8nYRDBZYKbtU8d%2C4o9wvGpLZi4pla9CxvDsHb%2C5ygp81TQpolYKghQjdYZpD%2C4FHMYgQiGlji1CcYCCHzOT%2C6IFPfV8PNSYOmufzQ95hmm%2C2ncMlnrDwSfnYnV5ixxuib%2C5Z2gIlGW3YwlOuxHUvDCSH'"
      ]
     },
     "execution_count": 42,
     "metadata": {},
     "output_type": "execute_result"
    }
   ],
   "source": [
    "urllib.parse.quote(','.join(list(fgl_tracks_df['id'])))"
   ]
  },
  {
   "cell_type": "code",
   "execution_count": 43,
   "id": "aa9ef6cc",
   "metadata": {},
   "outputs": [],
   "source": [
    "fgl_audio_features_url = 'https://api.spotify.com/v1/audio-features?ids={}'.format(urllib.parse.quote(','.join(list(fgl_tracks_df['id']))))"
   ]
  },
  {
   "cell_type": "code",
   "execution_count": 44,
   "id": "bfad1bf7",
   "metadata": {},
   "outputs": [],
   "source": [
    "features_response2 = requests.get(url = fgl_audio_features_url, headers = session_headers)"
   ]
  },
  {
   "cell_type": "code",
   "execution_count": 45,
   "id": "de1ef4c8",
   "metadata": {},
   "outputs": [],
   "source": [
    "fgl_track_features = features_response2.json()"
   ]
  },
  {
   "cell_type": "code",
   "execution_count": 46,
   "id": "d604ceb7",
   "metadata": {},
   "outputs": [],
   "source": [
    "fgl_track_features_df = pd.DataFrame(fgl_track_features['audio_features'])"
   ]
  },
  {
   "cell_type": "code",
   "execution_count": 47,
   "id": "3371805f",
   "metadata": {},
   "outputs": [
    {
     "data": {
      "text/html": [
       "<div>\n",
       "<style scoped>\n",
       "    .dataframe tbody tr th:only-of-type {\n",
       "        vertical-align: middle;\n",
       "    }\n",
       "\n",
       "    .dataframe tbody tr th {\n",
       "        vertical-align: top;\n",
       "    }\n",
       "\n",
       "    .dataframe thead th {\n",
       "        text-align: right;\n",
       "    }\n",
       "</style>\n",
       "<table border=\"1\" class=\"dataframe\">\n",
       "  <thead>\n",
       "    <tr style=\"text-align: right;\">\n",
       "      <th></th>\n",
       "      <th>danceability</th>\n",
       "      <th>energy</th>\n",
       "      <th>key</th>\n",
       "      <th>loudness</th>\n",
       "      <th>mode</th>\n",
       "      <th>speechiness</th>\n",
       "      <th>acousticness</th>\n",
       "      <th>instrumentalness</th>\n",
       "      <th>liveness</th>\n",
       "      <th>valence</th>\n",
       "      <th>tempo</th>\n",
       "      <th>type</th>\n",
       "      <th>id</th>\n",
       "      <th>uri</th>\n",
       "      <th>track_href</th>\n",
       "      <th>analysis_url</th>\n",
       "      <th>duration_ms</th>\n",
       "      <th>time_signature</th>\n",
       "    </tr>\n",
       "  </thead>\n",
       "  <tbody>\n",
       "    <tr>\n",
       "      <th>0</th>\n",
       "      <td>0.458</td>\n",
       "      <td>0.976</td>\n",
       "      <td>0</td>\n",
       "      <td>-3.791</td>\n",
       "      <td>1</td>\n",
       "      <td>0.0459</td>\n",
       "      <td>0.00182</td>\n",
       "      <td>0.000000</td>\n",
       "      <td>0.1930</td>\n",
       "      <td>0.760</td>\n",
       "      <td>154.007</td>\n",
       "      <td>audio_features</td>\n",
       "      <td>46ZfPS5VpSQVU5gb82hg3K</td>\n",
       "      <td>spotify:track:46ZfPS5VpSQVU5gb82hg3K</td>\n",
       "      <td>https://api.spotify.com/v1/tracks/46ZfPS5VpSQV...</td>\n",
       "      <td>https://api.spotify.com/v1/audio-analysis/46Zf...</td>\n",
       "      <td>218867</td>\n",
       "      <td>4</td>\n",
       "    </tr>\n",
       "    <tr>\n",
       "      <th>1</th>\n",
       "      <td>0.476</td>\n",
       "      <td>0.952</td>\n",
       "      <td>4</td>\n",
       "      <td>-3.783</td>\n",
       "      <td>1</td>\n",
       "      <td>0.0410</td>\n",
       "      <td>0.09810</td>\n",
       "      <td>0.000003</td>\n",
       "      <td>0.4380</td>\n",
       "      <td>0.849</td>\n",
       "      <td>170.062</td>\n",
       "      <td>audio_features</td>\n",
       "      <td>0El2Zyt68nYySFDG87hZgM</td>\n",
       "      <td>spotify:track:0El2Zyt68nYySFDG87hZgM</td>\n",
       "      <td>https://api.spotify.com/v1/tracks/0El2Zyt68nYy...</td>\n",
       "      <td>https://api.spotify.com/v1/audio-analysis/0El2...</td>\n",
       "      <td>184707</td>\n",
       "      <td>4</td>\n",
       "    </tr>\n",
       "    <tr>\n",
       "      <th>2</th>\n",
       "      <td>0.482</td>\n",
       "      <td>0.944</td>\n",
       "      <td>11</td>\n",
       "      <td>-3.703</td>\n",
       "      <td>1</td>\n",
       "      <td>0.0453</td>\n",
       "      <td>0.02250</td>\n",
       "      <td>0.000008</td>\n",
       "      <td>0.3360</td>\n",
       "      <td>0.754</td>\n",
       "      <td>160.033</td>\n",
       "      <td>audio_features</td>\n",
       "      <td>0VhjSCScYGOmEKr24FBNSM</td>\n",
       "      <td>spotify:track:0VhjSCScYGOmEKr24FBNSM</td>\n",
       "      <td>https://api.spotify.com/v1/tracks/0VhjSCScYGOm...</td>\n",
       "      <td>https://api.spotify.com/v1/audio-analysis/0Vhj...</td>\n",
       "      <td>196373</td>\n",
       "      <td>4</td>\n",
       "    </tr>\n",
       "    <tr>\n",
       "      <th>3</th>\n",
       "      <td>0.547</td>\n",
       "      <td>0.878</td>\n",
       "      <td>2</td>\n",
       "      <td>-4.224</td>\n",
       "      <td>1</td>\n",
       "      <td>0.0451</td>\n",
       "      <td>0.06380</td>\n",
       "      <td>0.000007</td>\n",
       "      <td>0.1060</td>\n",
       "      <td>0.592</td>\n",
       "      <td>121.973</td>\n",
       "      <td>audio_features</td>\n",
       "      <td>5CXnIPD6rTjszYYQm6fY2P</td>\n",
       "      <td>spotify:track:5CXnIPD6rTjszYYQm6fY2P</td>\n",
       "      <td>https://api.spotify.com/v1/tracks/5CXnIPD6rTjs...</td>\n",
       "      <td>https://api.spotify.com/v1/audio-analysis/5CXn...</td>\n",
       "      <td>230587</td>\n",
       "      <td>4</td>\n",
       "    </tr>\n",
       "    <tr>\n",
       "      <th>4</th>\n",
       "      <td>0.558</td>\n",
       "      <td>0.875</td>\n",
       "      <td>9</td>\n",
       "      <td>-2.931</td>\n",
       "      <td>0</td>\n",
       "      <td>0.0323</td>\n",
       "      <td>0.00505</td>\n",
       "      <td>0.000000</td>\n",
       "      <td>0.0419</td>\n",
       "      <td>0.963</td>\n",
       "      <td>130.002</td>\n",
       "      <td>audio_features</td>\n",
       "      <td>0bPiq3JmsZErLIkhVqajp9</td>\n",
       "      <td>spotify:track:0bPiq3JmsZErLIkhVqajp9</td>\n",
       "      <td>https://api.spotify.com/v1/tracks/0bPiq3JmsZEr...</td>\n",
       "      <td>https://api.spotify.com/v1/audio-analysis/0bPi...</td>\n",
       "      <td>169867</td>\n",
       "      <td>4</td>\n",
       "    </tr>\n",
       "  </tbody>\n",
       "</table>\n",
       "</div>"
      ],
      "text/plain": [
       "   danceability  energy  key  loudness  mode  speechiness  acousticness  \\\n",
       "0         0.458   0.976    0    -3.791     1       0.0459       0.00182   \n",
       "1         0.476   0.952    4    -3.783     1       0.0410       0.09810   \n",
       "2         0.482   0.944   11    -3.703     1       0.0453       0.02250   \n",
       "3         0.547   0.878    2    -4.224     1       0.0451       0.06380   \n",
       "4         0.558   0.875    9    -2.931     0       0.0323       0.00505   \n",
       "\n",
       "   instrumentalness  liveness  valence    tempo            type  \\\n",
       "0          0.000000    0.1930    0.760  154.007  audio_features   \n",
       "1          0.000003    0.4380    0.849  170.062  audio_features   \n",
       "2          0.000008    0.3360    0.754  160.033  audio_features   \n",
       "3          0.000007    0.1060    0.592  121.973  audio_features   \n",
       "4          0.000000    0.0419    0.963  130.002  audio_features   \n",
       "\n",
       "                       id                                   uri  \\\n",
       "0  46ZfPS5VpSQVU5gb82hg3K  spotify:track:46ZfPS5VpSQVU5gb82hg3K   \n",
       "1  0El2Zyt68nYySFDG87hZgM  spotify:track:0El2Zyt68nYySFDG87hZgM   \n",
       "2  0VhjSCScYGOmEKr24FBNSM  spotify:track:0VhjSCScYGOmEKr24FBNSM   \n",
       "3  5CXnIPD6rTjszYYQm6fY2P  spotify:track:5CXnIPD6rTjszYYQm6fY2P   \n",
       "4  0bPiq3JmsZErLIkhVqajp9  spotify:track:0bPiq3JmsZErLIkhVqajp9   \n",
       "\n",
       "                                          track_href  \\\n",
       "0  https://api.spotify.com/v1/tracks/46ZfPS5VpSQV...   \n",
       "1  https://api.spotify.com/v1/tracks/0El2Zyt68nYy...   \n",
       "2  https://api.spotify.com/v1/tracks/0VhjSCScYGOm...   \n",
       "3  https://api.spotify.com/v1/tracks/5CXnIPD6rTjs...   \n",
       "4  https://api.spotify.com/v1/tracks/0bPiq3JmsZEr...   \n",
       "\n",
       "                                        analysis_url  duration_ms  \\\n",
       "0  https://api.spotify.com/v1/audio-analysis/46Zf...       218867   \n",
       "1  https://api.spotify.com/v1/audio-analysis/0El2...       184707   \n",
       "2  https://api.spotify.com/v1/audio-analysis/0Vhj...       196373   \n",
       "3  https://api.spotify.com/v1/audio-analysis/5CXn...       230587   \n",
       "4  https://api.spotify.com/v1/audio-analysis/0bPi...       169867   \n",
       "\n",
       "   time_signature  \n",
       "0               4  \n",
       "1               4  \n",
       "2               4  \n",
       "3               4  \n",
       "4               4  "
      ]
     },
     "execution_count": 47,
     "metadata": {},
     "output_type": "execute_result"
    }
   ],
   "source": [
    "fgl_track_features_df.head()"
   ]
  },
  {
   "cell_type": "markdown",
   "id": "57f272ce",
   "metadata": {},
   "source": [
    "I now have the audio features from the album by Luke Combs and by Florida Georgia Line"
   ]
  },
  {
   "cell_type": "code",
   "execution_count": 48,
   "id": "d1239808",
   "metadata": {},
   "outputs": [
    {
     "data": {
      "text/html": [
       "<div>\n",
       "<style scoped>\n",
       "    .dataframe tbody tr th:only-of-type {\n",
       "        vertical-align: middle;\n",
       "    }\n",
       "\n",
       "    .dataframe tbody tr th {\n",
       "        vertical-align: top;\n",
       "    }\n",
       "\n",
       "    .dataframe thead th {\n",
       "        text-align: right;\n",
       "    }\n",
       "</style>\n",
       "<table border=\"1\" class=\"dataframe\">\n",
       "  <thead>\n",
       "    <tr style=\"text-align: right;\">\n",
       "      <th></th>\n",
       "      <th>danceability</th>\n",
       "      <th>energy</th>\n",
       "      <th>key</th>\n",
       "      <th>loudness</th>\n",
       "      <th>mode</th>\n",
       "      <th>speechiness</th>\n",
       "      <th>acousticness</th>\n",
       "      <th>instrumentalness</th>\n",
       "      <th>liveness</th>\n",
       "      <th>valence</th>\n",
       "      <th>tempo</th>\n",
       "      <th>type</th>\n",
       "      <th>id</th>\n",
       "      <th>uri</th>\n",
       "      <th>track_href</th>\n",
       "      <th>analysis_url</th>\n",
       "      <th>duration_ms</th>\n",
       "      <th>time_signature</th>\n",
       "    </tr>\n",
       "  </thead>\n",
       "  <tbody>\n",
       "    <tr>\n",
       "      <th>0</th>\n",
       "      <td>0.538</td>\n",
       "      <td>0.863</td>\n",
       "      <td>1</td>\n",
       "      <td>-4.483</td>\n",
       "      <td>1</td>\n",
       "      <td>0.0481</td>\n",
       "      <td>0.01390</td>\n",
       "      <td>0.000000</td>\n",
       "      <td>0.0874</td>\n",
       "      <td>0.637</td>\n",
       "      <td>77.001</td>\n",
       "      <td>audio_features</td>\n",
       "      <td>3t5CI2xqUBytrGJGsBqmUV</td>\n",
       "      <td>spotify:track:3t5CI2xqUBytrGJGsBqmUV</td>\n",
       "      <td>https://api.spotify.com/v1/tracks/3t5CI2xqUByt...</td>\n",
       "      <td>https://api.spotify.com/v1/audio-analysis/3t5C...</td>\n",
       "      <td>186733</td>\n",
       "      <td>4</td>\n",
       "    </tr>\n",
       "    <tr>\n",
       "      <th>1</th>\n",
       "      <td>0.459</td>\n",
       "      <td>0.864</td>\n",
       "      <td>1</td>\n",
       "      <td>-4.397</td>\n",
       "      <td>1</td>\n",
       "      <td>0.0590</td>\n",
       "      <td>0.01100</td>\n",
       "      <td>0.000003</td>\n",
       "      <td>0.3140</td>\n",
       "      <td>0.623</td>\n",
       "      <td>74.867</td>\n",
       "      <td>audio_features</td>\n",
       "      <td>70ECd4rOaE5aSNTPLMB8DS</td>\n",
       "      <td>spotify:track:70ECd4rOaE5aSNTPLMB8DS</td>\n",
       "      <td>https://api.spotify.com/v1/tracks/70ECd4rOaE5a...</td>\n",
       "      <td>https://api.spotify.com/v1/audio-analysis/70EC...</td>\n",
       "      <td>204240</td>\n",
       "      <td>4</td>\n",
       "    </tr>\n",
       "    <tr>\n",
       "      <th>2</th>\n",
       "      <td>0.554</td>\n",
       "      <td>0.755</td>\n",
       "      <td>2</td>\n",
       "      <td>-6.040</td>\n",
       "      <td>1</td>\n",
       "      <td>0.0319</td>\n",
       "      <td>0.22500</td>\n",
       "      <td>0.000000</td>\n",
       "      <td>0.3010</td>\n",
       "      <td>0.624</td>\n",
       "      <td>77.962</td>\n",
       "      <td>audio_features</td>\n",
       "      <td>5JpI6jI6wKwk0wZJ6VN75b</td>\n",
       "      <td>spotify:track:5JpI6jI6wKwk0wZJ6VN75b</td>\n",
       "      <td>https://api.spotify.com/v1/tracks/5JpI6jI6wKwk...</td>\n",
       "      <td>https://api.spotify.com/v1/audio-analysis/5JpI...</td>\n",
       "      <td>225253</td>\n",
       "      <td>4</td>\n",
       "    </tr>\n",
       "    <tr>\n",
       "      <th>3</th>\n",
       "      <td>0.572</td>\n",
       "      <td>0.949</td>\n",
       "      <td>4</td>\n",
       "      <td>-4.865</td>\n",
       "      <td>1</td>\n",
       "      <td>0.0600</td>\n",
       "      <td>0.00165</td>\n",
       "      <td>0.000195</td>\n",
       "      <td>0.1630</td>\n",
       "      <td>0.530</td>\n",
       "      <td>118.974</td>\n",
       "      <td>audio_features</td>\n",
       "      <td>0IyIAxDXYOJMHLsTLrbOfy</td>\n",
       "      <td>spotify:track:0IyIAxDXYOJMHLsTLrbOfy</td>\n",
       "      <td>https://api.spotify.com/v1/tracks/0IyIAxDXYOJM...</td>\n",
       "      <td>https://api.spotify.com/v1/audio-analysis/0IyI...</td>\n",
       "      <td>194867</td>\n",
       "      <td>4</td>\n",
       "    </tr>\n",
       "    <tr>\n",
       "      <th>4</th>\n",
       "      <td>0.493</td>\n",
       "      <td>0.772</td>\n",
       "      <td>7</td>\n",
       "      <td>-5.875</td>\n",
       "      <td>1</td>\n",
       "      <td>0.0452</td>\n",
       "      <td>0.45600</td>\n",
       "      <td>0.000003</td>\n",
       "      <td>0.1070</td>\n",
       "      <td>0.472</td>\n",
       "      <td>140.996</td>\n",
       "      <td>audio_features</td>\n",
       "      <td>2UWFCFlnz7n4CD1hWZDyIw</td>\n",
       "      <td>spotify:track:2UWFCFlnz7n4CD1hWZDyIw</td>\n",
       "      <td>https://api.spotify.com/v1/tracks/2UWFCFlnz7n4...</td>\n",
       "      <td>https://api.spotify.com/v1/audio-analysis/2UWF...</td>\n",
       "      <td>204640</td>\n",
       "      <td>4</td>\n",
       "    </tr>\n",
       "  </tbody>\n",
       "</table>\n",
       "</div>"
      ],
      "text/plain": [
       "   danceability  energy  key  loudness  mode  speechiness  acousticness  \\\n",
       "0         0.538   0.863    1    -4.483     1       0.0481       0.01390   \n",
       "1         0.459   0.864    1    -4.397     1       0.0590       0.01100   \n",
       "2         0.554   0.755    2    -6.040     1       0.0319       0.22500   \n",
       "3         0.572   0.949    4    -4.865     1       0.0600       0.00165   \n",
       "4         0.493   0.772    7    -5.875     1       0.0452       0.45600   \n",
       "\n",
       "   instrumentalness  liveness  valence    tempo            type  \\\n",
       "0          0.000000    0.0874    0.637   77.001  audio_features   \n",
       "1          0.000003    0.3140    0.623   74.867  audio_features   \n",
       "2          0.000000    0.3010    0.624   77.962  audio_features   \n",
       "3          0.000195    0.1630    0.530  118.974  audio_features   \n",
       "4          0.000003    0.1070    0.472  140.996  audio_features   \n",
       "\n",
       "                       id                                   uri  \\\n",
       "0  3t5CI2xqUBytrGJGsBqmUV  spotify:track:3t5CI2xqUBytrGJGsBqmUV   \n",
       "1  70ECd4rOaE5aSNTPLMB8DS  spotify:track:70ECd4rOaE5aSNTPLMB8DS   \n",
       "2  5JpI6jI6wKwk0wZJ6VN75b  spotify:track:5JpI6jI6wKwk0wZJ6VN75b   \n",
       "3  0IyIAxDXYOJMHLsTLrbOfy  spotify:track:0IyIAxDXYOJMHLsTLrbOfy   \n",
       "4  2UWFCFlnz7n4CD1hWZDyIw  spotify:track:2UWFCFlnz7n4CD1hWZDyIw   \n",
       "\n",
       "                                          track_href  \\\n",
       "0  https://api.spotify.com/v1/tracks/3t5CI2xqUByt...   \n",
       "1  https://api.spotify.com/v1/tracks/70ECd4rOaE5a...   \n",
       "2  https://api.spotify.com/v1/tracks/5JpI6jI6wKwk...   \n",
       "3  https://api.spotify.com/v1/tracks/0IyIAxDXYOJM...   \n",
       "4  https://api.spotify.com/v1/tracks/2UWFCFlnz7n4...   \n",
       "\n",
       "                                        analysis_url  duration_ms  \\\n",
       "0  https://api.spotify.com/v1/audio-analysis/3t5C...       186733   \n",
       "1  https://api.spotify.com/v1/audio-analysis/70EC...       204240   \n",
       "2  https://api.spotify.com/v1/audio-analysis/5JpI...       225253   \n",
       "3  https://api.spotify.com/v1/audio-analysis/0IyI...       194867   \n",
       "4  https://api.spotify.com/v1/audio-analysis/2UWF...       204640   \n",
       "\n",
       "   time_signature  \n",
       "0               4  \n",
       "1               4  \n",
       "2               4  \n",
       "3               4  \n",
       "4               4  "
      ]
     },
     "execution_count": 48,
     "metadata": {},
     "output_type": "execute_result"
    }
   ],
   "source": [
    "#Luke Combs\n",
    "combs_track_features_df.head()"
   ]
  },
  {
   "cell_type": "code",
   "execution_count": 49,
   "id": "428ee767",
   "metadata": {},
   "outputs": [
    {
     "data": {
      "text/html": [
       "<div>\n",
       "<style scoped>\n",
       "    .dataframe tbody tr th:only-of-type {\n",
       "        vertical-align: middle;\n",
       "    }\n",
       "\n",
       "    .dataframe tbody tr th {\n",
       "        vertical-align: top;\n",
       "    }\n",
       "\n",
       "    .dataframe thead th {\n",
       "        text-align: right;\n",
       "    }\n",
       "</style>\n",
       "<table border=\"1\" class=\"dataframe\">\n",
       "  <thead>\n",
       "    <tr style=\"text-align: right;\">\n",
       "      <th></th>\n",
       "      <th>danceability</th>\n",
       "      <th>energy</th>\n",
       "      <th>key</th>\n",
       "      <th>loudness</th>\n",
       "      <th>mode</th>\n",
       "      <th>speechiness</th>\n",
       "      <th>acousticness</th>\n",
       "      <th>instrumentalness</th>\n",
       "      <th>liveness</th>\n",
       "      <th>valence</th>\n",
       "      <th>tempo</th>\n",
       "      <th>type</th>\n",
       "      <th>id</th>\n",
       "      <th>uri</th>\n",
       "      <th>track_href</th>\n",
       "      <th>analysis_url</th>\n",
       "      <th>duration_ms</th>\n",
       "      <th>time_signature</th>\n",
       "    </tr>\n",
       "  </thead>\n",
       "  <tbody>\n",
       "    <tr>\n",
       "      <th>0</th>\n",
       "      <td>0.458</td>\n",
       "      <td>0.976</td>\n",
       "      <td>0</td>\n",
       "      <td>-3.791</td>\n",
       "      <td>1</td>\n",
       "      <td>0.0459</td>\n",
       "      <td>0.00182</td>\n",
       "      <td>0.000000</td>\n",
       "      <td>0.1930</td>\n",
       "      <td>0.760</td>\n",
       "      <td>154.007</td>\n",
       "      <td>audio_features</td>\n",
       "      <td>46ZfPS5VpSQVU5gb82hg3K</td>\n",
       "      <td>spotify:track:46ZfPS5VpSQVU5gb82hg3K</td>\n",
       "      <td>https://api.spotify.com/v1/tracks/46ZfPS5VpSQV...</td>\n",
       "      <td>https://api.spotify.com/v1/audio-analysis/46Zf...</td>\n",
       "      <td>218867</td>\n",
       "      <td>4</td>\n",
       "    </tr>\n",
       "    <tr>\n",
       "      <th>1</th>\n",
       "      <td>0.476</td>\n",
       "      <td>0.952</td>\n",
       "      <td>4</td>\n",
       "      <td>-3.783</td>\n",
       "      <td>1</td>\n",
       "      <td>0.0410</td>\n",
       "      <td>0.09810</td>\n",
       "      <td>0.000003</td>\n",
       "      <td>0.4380</td>\n",
       "      <td>0.849</td>\n",
       "      <td>170.062</td>\n",
       "      <td>audio_features</td>\n",
       "      <td>0El2Zyt68nYySFDG87hZgM</td>\n",
       "      <td>spotify:track:0El2Zyt68nYySFDG87hZgM</td>\n",
       "      <td>https://api.spotify.com/v1/tracks/0El2Zyt68nYy...</td>\n",
       "      <td>https://api.spotify.com/v1/audio-analysis/0El2...</td>\n",
       "      <td>184707</td>\n",
       "      <td>4</td>\n",
       "    </tr>\n",
       "    <tr>\n",
       "      <th>2</th>\n",
       "      <td>0.482</td>\n",
       "      <td>0.944</td>\n",
       "      <td>11</td>\n",
       "      <td>-3.703</td>\n",
       "      <td>1</td>\n",
       "      <td>0.0453</td>\n",
       "      <td>0.02250</td>\n",
       "      <td>0.000008</td>\n",
       "      <td>0.3360</td>\n",
       "      <td>0.754</td>\n",
       "      <td>160.033</td>\n",
       "      <td>audio_features</td>\n",
       "      <td>0VhjSCScYGOmEKr24FBNSM</td>\n",
       "      <td>spotify:track:0VhjSCScYGOmEKr24FBNSM</td>\n",
       "      <td>https://api.spotify.com/v1/tracks/0VhjSCScYGOm...</td>\n",
       "      <td>https://api.spotify.com/v1/audio-analysis/0Vhj...</td>\n",
       "      <td>196373</td>\n",
       "      <td>4</td>\n",
       "    </tr>\n",
       "    <tr>\n",
       "      <th>3</th>\n",
       "      <td>0.547</td>\n",
       "      <td>0.878</td>\n",
       "      <td>2</td>\n",
       "      <td>-4.224</td>\n",
       "      <td>1</td>\n",
       "      <td>0.0451</td>\n",
       "      <td>0.06380</td>\n",
       "      <td>0.000007</td>\n",
       "      <td>0.1060</td>\n",
       "      <td>0.592</td>\n",
       "      <td>121.973</td>\n",
       "      <td>audio_features</td>\n",
       "      <td>5CXnIPD6rTjszYYQm6fY2P</td>\n",
       "      <td>spotify:track:5CXnIPD6rTjszYYQm6fY2P</td>\n",
       "      <td>https://api.spotify.com/v1/tracks/5CXnIPD6rTjs...</td>\n",
       "      <td>https://api.spotify.com/v1/audio-analysis/5CXn...</td>\n",
       "      <td>230587</td>\n",
       "      <td>4</td>\n",
       "    </tr>\n",
       "    <tr>\n",
       "      <th>4</th>\n",
       "      <td>0.558</td>\n",
       "      <td>0.875</td>\n",
       "      <td>9</td>\n",
       "      <td>-2.931</td>\n",
       "      <td>0</td>\n",
       "      <td>0.0323</td>\n",
       "      <td>0.00505</td>\n",
       "      <td>0.000000</td>\n",
       "      <td>0.0419</td>\n",
       "      <td>0.963</td>\n",
       "      <td>130.002</td>\n",
       "      <td>audio_features</td>\n",
       "      <td>0bPiq3JmsZErLIkhVqajp9</td>\n",
       "      <td>spotify:track:0bPiq3JmsZErLIkhVqajp9</td>\n",
       "      <td>https://api.spotify.com/v1/tracks/0bPiq3JmsZEr...</td>\n",
       "      <td>https://api.spotify.com/v1/audio-analysis/0bPi...</td>\n",
       "      <td>169867</td>\n",
       "      <td>4</td>\n",
       "    </tr>\n",
       "  </tbody>\n",
       "</table>\n",
       "</div>"
      ],
      "text/plain": [
       "   danceability  energy  key  loudness  mode  speechiness  acousticness  \\\n",
       "0         0.458   0.976    0    -3.791     1       0.0459       0.00182   \n",
       "1         0.476   0.952    4    -3.783     1       0.0410       0.09810   \n",
       "2         0.482   0.944   11    -3.703     1       0.0453       0.02250   \n",
       "3         0.547   0.878    2    -4.224     1       0.0451       0.06380   \n",
       "4         0.558   0.875    9    -2.931     0       0.0323       0.00505   \n",
       "\n",
       "   instrumentalness  liveness  valence    tempo            type  \\\n",
       "0          0.000000    0.1930    0.760  154.007  audio_features   \n",
       "1          0.000003    0.4380    0.849  170.062  audio_features   \n",
       "2          0.000008    0.3360    0.754  160.033  audio_features   \n",
       "3          0.000007    0.1060    0.592  121.973  audio_features   \n",
       "4          0.000000    0.0419    0.963  130.002  audio_features   \n",
       "\n",
       "                       id                                   uri  \\\n",
       "0  46ZfPS5VpSQVU5gb82hg3K  spotify:track:46ZfPS5VpSQVU5gb82hg3K   \n",
       "1  0El2Zyt68nYySFDG87hZgM  spotify:track:0El2Zyt68nYySFDG87hZgM   \n",
       "2  0VhjSCScYGOmEKr24FBNSM  spotify:track:0VhjSCScYGOmEKr24FBNSM   \n",
       "3  5CXnIPD6rTjszYYQm6fY2P  spotify:track:5CXnIPD6rTjszYYQm6fY2P   \n",
       "4  0bPiq3JmsZErLIkhVqajp9  spotify:track:0bPiq3JmsZErLIkhVqajp9   \n",
       "\n",
       "                                          track_href  \\\n",
       "0  https://api.spotify.com/v1/tracks/46ZfPS5VpSQV...   \n",
       "1  https://api.spotify.com/v1/tracks/0El2Zyt68nYy...   \n",
       "2  https://api.spotify.com/v1/tracks/0VhjSCScYGOm...   \n",
       "3  https://api.spotify.com/v1/tracks/5CXnIPD6rTjs...   \n",
       "4  https://api.spotify.com/v1/tracks/0bPiq3JmsZEr...   \n",
       "\n",
       "                                        analysis_url  duration_ms  \\\n",
       "0  https://api.spotify.com/v1/audio-analysis/46Zf...       218867   \n",
       "1  https://api.spotify.com/v1/audio-analysis/0El2...       184707   \n",
       "2  https://api.spotify.com/v1/audio-analysis/0Vhj...       196373   \n",
       "3  https://api.spotify.com/v1/audio-analysis/5CXn...       230587   \n",
       "4  https://api.spotify.com/v1/audio-analysis/0bPi...       169867   \n",
       "\n",
       "   time_signature  \n",
       "0               4  \n",
       "1               4  \n",
       "2               4  \n",
       "3               4  \n",
       "4               4  "
      ]
     },
     "execution_count": 49,
     "metadata": {},
     "output_type": "execute_result"
    }
   ],
   "source": [
    "#Florida Georgia Line\n",
    "fgl_track_features_df.head()"
   ]
  },
  {
   "cell_type": "markdown",
   "id": "8d2f5a86",
   "metadata": {},
   "source": [
    "For the next part of my report, I will use the energy and danceability to evaluate the albums. I struggled with choosing only two features since country songs are known to fluctuate between all of these features listed in the chart depending on the country singer and the theme of their album. However, these two albums (based on my experience listening to them) have great energy and danceability and would be valuable to evaluate."
   ]
  },
  {
   "cell_type": "code",
   "execution_count": 50,
   "id": "e04ac413",
   "metadata": {},
   "outputs": [
    {
     "data": {
      "image/png": "[encoded data removed]",
      "text/plain": [
       "<Figure size 640x480 with 2 Axes>"
      ]
     },
     "metadata": {},
     "output_type": "display_data"
    }
   ],
   "source": [
    "fig1, ax1 = plt.subplots(1, 2)\n",
    "ax1[0].hist(combs_track_features_df['danceability']) #blue \n",
    "ax1[0].hist(fgl_track_features_df['danceability'])  #orange \n",
    "\n",
    "ax1[1].hist(combs_track_features_df['energy']) #blue\n",
    "ax1[1].hist(fgl_track_features_df['energy']) #orange\n",
    "\n",
    "plt.show()"
   ]
  },
  {
   "cell_type": "markdown",
   "id": "d1e6de0e",
   "metadata": {},
   "source": [
    "The first histogram above compares the danceability features of Luke Combs' album (blue) and FGL's album (orange). The second histogram compares the energy features between the two albums.\n",
    "\n",
    "In the first histogram, for Luke Combs, we can see that the songs in this album have high rates of danceability. For example, he has four songs in the section just below 0.50. Following that, he mostly has 2-3 songs per column that have high rates of danceability.\n",
    "For FGL's album, they fall slightly lower in danceability than Luke Combs. Their songs make it up to the 0.55 mark of danceability and they have at least three songs that fall here; however, they also have a few songs that are below the 0.55 mark.\n",
    "\n",
    "In the second histogram, Luke Combs' songs grow in energy rates. While he has two songs that fall into the 0.2-0.4 range, he has more songs that continue to grow in more energy. \n",
    "For FGL, the songs in this album contain high amounts of energy. You will see that the columns are very small; however, this is because of the number of songs in the albums containing a great amount of energy. In other words, you can see that all of their songs in this album fall within the 0.8-1.0 range. "
   ]
  },
  {
   "cell_type": "code",
   "execution_count": 51,
   "id": "aa47e776",
   "metadata": {},
   "outputs": [
    {
     "data": {
      "text/plain": [
       "<function matplotlib.pyplot.show(close=None, block=None)>"
      ]
     },
     "execution_count": 51,
     "metadata": {},
     "output_type": "execute_result"
    },
    {
     "data": {
      "image/png": "[encoded data removed]",
      "text/plain": [
       "<Figure size 640x480 with 1 Axes>"
      ]
     },
     "metadata": {},
     "output_type": "display_data"
    }
   ],
   "source": [
    "fig2, ax2 = plt.subplots()\n",
    "\n",
    "ax2.scatter(x = combs_track_features_df['danceability'], \n",
    "            y = combs_track_features_df['energy'])\n",
    "\n",
    "plt.show"
   ]
  },
  {
   "cell_type": "markdown",
   "id": "165fb1b2",
   "metadata": {},
   "source": [
    "The scatter plot above analyzes the danceability (x-axis) and the energy (y-axis) of Luke Combs, \"What You See Ain't Always What You Get\" Album.\n",
    "\n",
    "As we can see, Luke Combs has songs that range on every point along the danceability axis. In other words, if you were to play a song at random from this album there is about a 50/50 chance you could either get a song that has a great danceability rating, or one that doesn't. \n",
    "However, according to the energy, most songs in this album have higher rates of energy. There are a few points that have low energy; however, if you were to play a song at random, there is a better chance of getting a song with lots of energy. "
   ]
  },
  {
   "cell_type": "code",
   "execution_count": 52,
   "id": "9ae38dc7",
   "metadata": {},
   "outputs": [
    {
     "data": {
      "text/plain": [
       "<matplotlib.collections.PathCollection at 0x124ebca50>"
      ]
     },
     "execution_count": 52,
     "metadata": {},
     "output_type": "execute_result"
    },
    {
     "data": {
      "image/png": "[encoded data removed]",
      "text/plain": [
       "<Figure size 640x480 with 1 Axes>"
      ]
     },
     "metadata": {},
     "output_type": "display_data"
    }
   ],
   "source": [
    "fig3, ax3 = plt.subplots()\n",
    "\n",
    "ax3.scatter(x = fgl_track_features_df['danceability'],\n",
    "            y = fgl_track_features_df['energy'])"
   ]
  },
  {
   "cell_type": "markdown",
   "id": "d77f2b9c",
   "metadata": {},
   "source": [
    "The scatter plot above analyzes the danceability (x-axis) and the energy (y-axis) of Florida Georgia Line's, \"Anything Goes\" Album. \n",
    "\n",
    "As we can see, there are not many points on this graph and they seem to have a minimal correlation. Some songs in this album have lots of energy, but little danceability, whereas some songs have great danceability with smaller amounts of energy. "
   ]
  },
  {
   "cell_type": "code",
   "execution_count": 53,
   "id": "b1d84040",
   "metadata": {},
   "outputs": [
    {
     "data": {
      "image/png": "[encoded data removed]",
      "text/plain": [
       "<Figure size 640x480 with 1 Axes>"
      ]
     },
     "metadata": {},
     "output_type": "display_data"
    }
   ],
   "source": [
    "fig4, ax4 = plt.subplots()\n",
    "\n",
    "ax4.scatter(x = combs_track_features_df['danceability'],\n",
    "            y = combs_track_features_df['energy'],\n",
    "            label = 'Luke Combs Album',\n",
    "            color = 'orange',\n",
    "            marker = 's',\n",
    "            alpha = .5)\n",
    "\n",
    "ax4.scatter(x = fgl_track_features_df['danceability'],\n",
    "            y = fgl_track_features_df['energy'],\n",
    "            label = 'FLG Album' ,\n",
    "            color = 'purple',\n",
    "            marker = 'D',\n",
    "            alpha = .5)\n",
    "\n",
    "ax4.set_xlabel('Danceability')\n",
    "ax4.set_ylabel('Energy')\n",
    "ax4.set_title('Relationship between Danceability & Energy \\n for Luke Combs vs. FGL')\n",
    "ax4.legend()\n",
    "\n",
    "plt.show()"
   ]
  },
  {
   "cell_type": "markdown",
   "id": "fb94d0db",
   "metadata": {},
   "source": [
    "The scatter plot above plots the danceability and energy of both Luke Combs' and FGL's albums together. While there are more songs in Luke Combs' album, it is safe to say that each album has songs with high levels of energy. The danceability is slightly scattered for both albums but they are scattered on a higher level. In other words, they are scattered in their danceability, but most of the songs have high levels of energy. Thus, if you are looking for county songs that have lots of energy, these two albums would be your way to go! I also think that, based on this data and your music preferences, you can find a song that you will love and has great energy and danceability. "
   ]
  },
  {
   "cell_type": "markdown",
   "id": "d79bad96",
   "metadata": {},
   "source": [
    "In the next part of my report, I will be using the danceability feature to compare between the albums in a box and scatter plot. "
   ]
  },
  {
   "cell_type": "code",
   "execution_count": 54,
   "id": "1cf8a0f0",
   "metadata": {},
   "outputs": [
    {
     "data": {
      "image/png": "[encoded data removed]",
      "text/plain": [
       "<Figure size 640x480 with 1 Axes>"
      ]
     },
     "metadata": {},
     "output_type": "display_data"
    }
   ],
   "source": [
    "fig5, ax5 = plt.subplots()\n",
    "\n",
    "combs_xs = [1] * len(combs_track_features_df['danceability'])\n",
    "fgl_xs = [2] * len(fgl_track_features_df['danceability'])\n",
    "combs_x_jitter = np.random.uniform(-0.10, .10, len(combs_xs))\n",
    "fgl_x_jitter = np.random.uniform(-.10, .10, len(fgl_xs))\n",
    "\n",
    "ax5.boxplot(combs_track_features_df['danceability'], positions = [1]) \n",
    "#make the box plot for the Combs Albums Danceability\n",
    "ax5.boxplot(fgl_track_features_df['danceability'], positions = [2]) \n",
    "#make the box plot for the FGL Albums Danceability\n",
    "\n",
    "\n",
    "ax5.scatter(combs_xs + combs_x_jitter, combs_track_features_df['danceability'], alpha = .5) \n",
    "#make the scatter plot for the Combs Albums Danceability\n",
    "ax5.scatter(fgl_xs + fgl_x_jitter, fgl_track_features_df['danceability'], alpha = .5)  \n",
    "#make the box plot for the FGL Albums Danceability\n",
    "\n",
    "\n",
    "plt.show()"
   ]
  },
  {
   "cell_type": "code",
   "execution_count": 55,
   "id": "3638543c",
   "metadata": {},
   "outputs": [
    {
     "data": {
      "text/plain": [
       "TtestResult(statistic=2.841010382697348, pvalue=0.007648721062960801, df=33.0)"
      ]
     },
     "execution_count": 55,
     "metadata": {},
     "output_type": "execute_result"
    }
   ],
   "source": [
    "combs_dance = combs_track_features_df['danceability'] \n",
    "#store combs_track_features_df['danceability'] as combs_dance\n",
    "fgl_dance = fgl_track_features_df['danceability']\n",
    "#store fgl_track_features_df['danceability'] as fgl_dance\n",
    "\n",
    "result1 = stats.ttest_ind(combs_dance, fgl_dance) #create a t-test by using the stored information above\n",
    "\n",
    "result1"
   ]
  },
  {
   "cell_type": "markdown",
   "id": "85376f30",
   "metadata": {},
   "source": [
    "The above calculation demonstrates a t-test. This test determines how significant a particular audio feature (like danceability, energy, speechiness, etc.) is between two different albums. In this case of my study, I compared the significance of the danceability in each album by Luke Combs and FGL to see how much they correlate. \n",
    "\n",
    "According to the t-test result (2.841010382697348) and the p-value (0.007648721062960801), the danceability between each of these albums is highly significant and correlated. This tells us that if both of these albums were to go on a date, it would most likely be successful :)"
   ]
  },
  {
   "cell_type": "markdown",
   "id": "31a35007",
   "metadata": {},
   "source": [
    "Overall, I think this is a successful project. While there may be some limitations on the data, based on the limitations in my coding skills, I believe I was able to accurately compare the two albums. Perhaps in the future, I can come back to this data and delve deeper into the code and analyze it more in-depth. I can also take more steps to compare more albums and audio features across different types of music I listen to. "
   ]
  }
 ],
 "metadata": {
  "kernelspec": {
   "display_name": "Python 3 (ipykernel)",
   "language": "python",
   "name": "python3"
  },
  "language_info": {
   "codemirror_mode": {
    "name": "ipython",
    "version": 3
   },
   "file_extension": ".py",
   "mimetype": "text/x-python",
   "name": "python",
   "nbconvert_exporter": "python",
   "pygments_lexer": "ipython3",
   "version": "3.11.4"
  }
 },
 "nbformat": 4,
 "nbformat_minor": 5
}
