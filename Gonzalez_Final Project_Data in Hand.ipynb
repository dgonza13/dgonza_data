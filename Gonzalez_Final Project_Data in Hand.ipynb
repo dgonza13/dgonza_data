{
 "cells": [
  {
   "cell_type": "markdown",
   "id": "bc4bce89",
   "metadata": {},
   "source": [
    "# Dominic's Final Project - EMS Data & Injury - 12.11.23"
   ]
  },
  {
   "cell_type": "markdown",
   "id": "ae194782",
   "metadata": {},
   "source": [
    "Have the number and type of injuries in the EMS field (x) affected the number of people pursuing a career in the field (y)?\n",
    "\n",
    "My goal is to understand how enrollment in the EMS field has changed and if it correlates with the risk of injuries in the field. \n",
    "\n",
    "The following data has been gathered from the US Bureau of Labor Statistics and the CDC. The breakdown, and structure will be described as you move through the report."
   ]
  },
  {
   "cell_type": "code",
   "execution_count": 22,
   "id": "599116fa",
   "metadata": {},
   "outputs": [],
   "source": [
    "import pandas as pd\n",
    "from matplotlib import pyplot as plt\n",
    "import numpy as np\n",
    "import requests\n",
    "import base64\n",
    "import json\n",
    "import urllib"
   ]
  },
  {
   "cell_type": "markdown",
   "id": "2ae4bab6",
   "metadata": {},
   "source": [
    "The following data was collected from the US Bureau of Labor Statistics\n",
    "\n",
    "This data was slightly edited for easier visualization and demonstrates EMTs and paramedics in two separate \n",
    "categories and one category for both. It shows how many EMS workers entered the field in 2022 and the projected employment rate/change in 2032."
   ]
  },
  {
   "cell_type": "code",
   "execution_count": 23,
   "id": "253cacee",
   "metadata": {},
   "outputs": [],
   "source": [
    "ems_projections = pd.read_csv('Employment Projections for EMTs and Paramedics, 2022-32.csv') "
   ]
  },
  {
   "cell_type": "code",
   "execution_count": 24,
   "id": "16ba5654",
   "metadata": {},
   "outputs": [
    {
     "data": {
      "text/html": [
       "<div>\n",
       "<style scoped>\n",
       "    .dataframe tbody tr th:only-of-type {\n",
       "        vertical-align: middle;\n",
       "    }\n",
       "\n",
       "    .dataframe tbody tr th {\n",
       "        vertical-align: top;\n",
       "    }\n",
       "\n",
       "    .dataframe thead th {\n",
       "        text-align: right;\n",
       "    }\n",
       "</style>\n",
       "<table border=\"1\" class=\"dataframe\">\n",
       "  <thead>\n",
       "    <tr style=\"text-align: right;\">\n",
       "      <th></th>\n",
       "      <th>Occupational Title</th>\n",
       "      <th>Employment, 2022</th>\n",
       "      <th>Projected Employment, 2032</th>\n",
       "      <th>Change, 2022-32 (Numeric)</th>\n",
       "      <th>Change, 2022-32 (Percentage)</th>\n",
       "    </tr>\n",
       "  </thead>\n",
       "  <tbody>\n",
       "    <tr>\n",
       "      <th>0</th>\n",
       "      <td>Emergency Medical Technicians and Paramedics</td>\n",
       "      <td>269,000</td>\n",
       "      <td>283,600</td>\n",
       "      <td>14,600</td>\n",
       "      <td>5</td>\n",
       "    </tr>\n",
       "    <tr>\n",
       "      <th>1</th>\n",
       "      <td>Emergency Medical Technicians</td>\n",
       "      <td>170,700</td>\n",
       "      <td>180,000</td>\n",
       "      <td>9,300</td>\n",
       "      <td>5</td>\n",
       "    </tr>\n",
       "    <tr>\n",
       "      <th>2</th>\n",
       "      <td>Paramedics</td>\n",
       "      <td>98,300</td>\n",
       "      <td>103,600</td>\n",
       "      <td>5,300</td>\n",
       "      <td>5</td>\n",
       "    </tr>\n",
       "  </tbody>\n",
       "</table>\n",
       "</div>"
      ],
      "text/plain": [
       "                             Occupational Title Employment, 2022  \\\n",
       "0  Emergency Medical Technicians and Paramedics          269,000   \n",
       "1                 Emergency Medical Technicians          170,700   \n",
       "2                                    Paramedics           98,300   \n",
       "\n",
       "  Projected Employment, 2032 Change, 2022-32 (Numeric)  \\\n",
       "0                    283,600                    14,600   \n",
       "1                    180,000                     9,300   \n",
       "2                    103,600                     5,300   \n",
       "\n",
       "   Change, 2022-32 (Percentage)  \n",
       "0                             5  \n",
       "1                             5  \n",
       "2                             5  "
      ]
     },
     "execution_count": 24,
     "metadata": {},
     "output_type": "execute_result"
    }
   ],
   "source": [
    "ems_projections"
   ]
  },
  {
   "cell_type": "markdown",
   "id": "05fe0f60",
   "metadata": {},
   "source": [
    "The following data was collected from the US Bureau of Labor Statistics\n",
    "\n",
    "This data was slightly edited for easier visualization and, similar to the previous data set, demonstrates multiple types of EMS positions, their employment in 2022, project 2032 employment, and the percentage change. A dash (-) represents a negative percentage change in employment for that type of work."
   ]
  },
  {
   "cell_type": "code",
   "execution_count": 25,
   "id": "b5eb1f5e",
   "metadata": {},
   "outputs": [],
   "source": [
    "ems_outlook = pd.read_csv('EMS Employment Outlook.csv')"
   ]
  },
  {
   "cell_type": "code",
   "execution_count": 26,
   "id": "4f334d1b",
   "metadata": {},
   "outputs": [
    {
     "data": {
      "text/html": [
       "<div>\n",
       "<style scoped>\n",
       "    .dataframe tbody tr th:only-of-type {\n",
       "        vertical-align: middle;\n",
       "    }\n",
       "\n",
       "    .dataframe tbody tr th {\n",
       "        vertical-align: top;\n",
       "    }\n",
       "\n",
       "    .dataframe thead th {\n",
       "        text-align: right;\n",
       "    }\n",
       "</style>\n",
       "<table border=\"1\" class=\"dataframe\">\n",
       "  <thead>\n",
       "    <tr style=\"text-align: right;\">\n",
       "      <th></th>\n",
       "      <th>Type of Work</th>\n",
       "      <th>2022 Employment</th>\n",
       "      <th>Projected 2032 Employment</th>\n",
       "      <th>Employment Percent Change, 2022-2032</th>\n",
       "    </tr>\n",
       "  </thead>\n",
       "  <tbody>\n",
       "    <tr>\n",
       "      <th>0</th>\n",
       "      <td>Healthcare and social assistance</td>\n",
       "      <td>178.3</td>\n",
       "      <td>187.7</td>\n",
       "      <td>5.3</td>\n",
       "    </tr>\n",
       "    <tr>\n",
       "      <th>1</th>\n",
       "      <td>Ambulatory healthcare services</td>\n",
       "      <td>126.8</td>\n",
       "      <td>134.5</td>\n",
       "      <td>6.0</td>\n",
       "    </tr>\n",
       "    <tr>\n",
       "      <th>2</th>\n",
       "      <td>Offices of physicians</td>\n",
       "      <td>3.2</td>\n",
       "      <td>3.3</td>\n",
       "      <td>2.9</td>\n",
       "    </tr>\n",
       "    <tr>\n",
       "      <th>3</th>\n",
       "      <td>Offices of other health practitioners</td>\n",
       "      <td>0.5</td>\n",
       "      <td>0.6</td>\n",
       "      <td>12.7</td>\n",
       "    </tr>\n",
       "    <tr>\n",
       "      <th>4</th>\n",
       "      <td>Offices of all other health practitioners</td>\n",
       "      <td>0.5</td>\n",
       "      <td>0.5</td>\n",
       "      <td>11.6</td>\n",
       "    </tr>\n",
       "    <tr>\n",
       "      <th>5</th>\n",
       "      <td>Outpatient care centers</td>\n",
       "      <td>3.5</td>\n",
       "      <td>4.2</td>\n",
       "      <td>18.3</td>\n",
       "    </tr>\n",
       "    <tr>\n",
       "      <th>6</th>\n",
       "      <td>Medical and diagnostic laboratories</td>\n",
       "      <td>0.3</td>\n",
       "      <td>0.3</td>\n",
       "      <td>8.6</td>\n",
       "    </tr>\n",
       "    <tr>\n",
       "      <th>7</th>\n",
       "      <td>Other ambulatory healthcare services</td>\n",
       "      <td>119.2</td>\n",
       "      <td>126.0</td>\n",
       "      <td>5.7</td>\n",
       "    </tr>\n",
       "    <tr>\n",
       "      <th>8</th>\n",
       "      <td>Ambulance services</td>\n",
       "      <td>117.2</td>\n",
       "      <td>123.7</td>\n",
       "      <td>5.5</td>\n",
       "    </tr>\n",
       "    <tr>\n",
       "      <th>9</th>\n",
       "      <td>All other ambulatory healthcare services</td>\n",
       "      <td>2.0</td>\n",
       "      <td>2.3</td>\n",
       "      <td>18.2</td>\n",
       "    </tr>\n",
       "    <tr>\n",
       "      <th>10</th>\n",
       "      <td>Hospitals; state, local, and private</td>\n",
       "      <td>50.6</td>\n",
       "      <td>52.2</td>\n",
       "      <td>3.3</td>\n",
       "    </tr>\n",
       "    <tr>\n",
       "      <th>11</th>\n",
       "      <td>General medical and surgical hospitals; state,...</td>\n",
       "      <td>50.0</td>\n",
       "      <td>51.6</td>\n",
       "      <td>3.2</td>\n",
       "    </tr>\n",
       "    <tr>\n",
       "      <th>12</th>\n",
       "      <td>General medical and surgical hospitals; private</td>\n",
       "      <td>38.1</td>\n",
       "      <td>39.6</td>\n",
       "      <td>4.0</td>\n",
       "    </tr>\n",
       "    <tr>\n",
       "      <th>13</th>\n",
       "      <td>General medical and surgical hospitals; state</td>\n",
       "      <td>2.1</td>\n",
       "      <td>2.1</td>\n",
       "      <td>-0.5</td>\n",
       "    </tr>\n",
       "    <tr>\n",
       "      <th>14</th>\n",
       "      <td>General medical and surgical hospitals; local</td>\n",
       "      <td>9.8</td>\n",
       "      <td>9.9</td>\n",
       "      <td>0.7</td>\n",
       "    </tr>\n",
       "    <tr>\n",
       "      <th>15</th>\n",
       "      <td>Specialty (except psychiatric and substance ab...</td>\n",
       "      <td>0.6</td>\n",
       "      <td>0.6</td>\n",
       "      <td>9.4</td>\n",
       "    </tr>\n",
       "    <tr>\n",
       "      <th>16</th>\n",
       "      <td>Specialty (except psychiatric and substance ab...</td>\n",
       "      <td>0.5</td>\n",
       "      <td>0.6</td>\n",
       "      <td>10.1</td>\n",
       "    </tr>\n",
       "    <tr>\n",
       "      <th>17</th>\n",
       "      <td>Nursing and residential care facilities</td>\n",
       "      <td>0.3</td>\n",
       "      <td>0.3</td>\n",
       "      <td>8.0</td>\n",
       "    </tr>\n",
       "    <tr>\n",
       "      <th>18</th>\n",
       "      <td>Nursing care facilities (skilled nursing facil...</td>\n",
       "      <td>0.1</td>\n",
       "      <td>0.1</td>\n",
       "      <td>-2.6</td>\n",
       "    </tr>\n",
       "    <tr>\n",
       "      <th>19</th>\n",
       "      <td>Residential intellectual and developmental dis...</td>\n",
       "      <td>0.1</td>\n",
       "      <td>0.1</td>\n",
       "      <td>11.1</td>\n",
       "    </tr>\n",
       "    <tr>\n",
       "      <th>20</th>\n",
       "      <td>Residential mental health and substance abuse ...</td>\n",
       "      <td>0.1</td>\n",
       "      <td>0.1</td>\n",
       "      <td>11.1</td>\n",
       "    </tr>\n",
       "  </tbody>\n",
       "</table>\n",
       "</div>"
      ],
      "text/plain": [
       "                                         Type of Work  2022 Employment  \\\n",
       "0                    Healthcare and social assistance            178.3   \n",
       "1                      Ambulatory healthcare services            126.8   \n",
       "2                               Offices of physicians              3.2   \n",
       "3               Offices of other health practitioners              0.5   \n",
       "4           Offices of all other health practitioners              0.5   \n",
       "5                             Outpatient care centers              3.5   \n",
       "6                 Medical and diagnostic laboratories              0.3   \n",
       "7                Other ambulatory healthcare services            119.2   \n",
       "8                                  Ambulance services            117.2   \n",
       "9            All other ambulatory healthcare services              2.0   \n",
       "10               Hospitals; state, local, and private             50.6   \n",
       "11  General medical and surgical hospitals; state,...             50.0   \n",
       "12    General medical and surgical hospitals; private             38.1   \n",
       "13      General medical and surgical hospitals; state              2.1   \n",
       "14      General medical and surgical hospitals; local              9.8   \n",
       "15  Specialty (except psychiatric and substance ab...              0.6   \n",
       "16  Specialty (except psychiatric and substance ab...              0.5   \n",
       "17            Nursing and residential care facilities              0.3   \n",
       "18  Nursing care facilities (skilled nursing facil...              0.1   \n",
       "19  Residential intellectual and developmental dis...              0.1   \n",
       "20  Residential mental health and substance abuse ...              0.1   \n",
       "\n",
       "    Projected 2032 Employment  Employment Percent Change, 2022-2032  \n",
       "0                       187.7                                   5.3  \n",
       "1                       134.5                                   6.0  \n",
       "2                         3.3                                   2.9  \n",
       "3                         0.6                                  12.7  \n",
       "4                         0.5                                  11.6  \n",
       "5                         4.2                                  18.3  \n",
       "6                         0.3                                   8.6  \n",
       "7                       126.0                                   5.7  \n",
       "8                       123.7                                   5.5  \n",
       "9                         2.3                                  18.2  \n",
       "10                       52.2                                   3.3  \n",
       "11                       51.6                                   3.2  \n",
       "12                       39.6                                   4.0  \n",
       "13                        2.1                                  -0.5  \n",
       "14                        9.9                                   0.7  \n",
       "15                        0.6                                   9.4  \n",
       "16                        0.6                                  10.1  \n",
       "17                        0.3                                   8.0  \n",
       "18                        0.1                                  -2.6  \n",
       "19                        0.1                                  11.1  \n",
       "20                        0.1                                  11.1  "
      ]
     },
     "execution_count": 26,
     "metadata": {},
     "output_type": "execute_result"
    }
   ],
   "source": [
    "ems_outlook #Data collected from the US Bureau of Labor Statistics"
   ]
  },
  {
   "cell_type": "markdown",
   "id": "152a51ed",
   "metadata": {},
   "source": [
    "The following data is collected from the CDC and represents injury data in the US for EMS workers. The data set was edited by hand for better visualization. As you will see, there are multiple CSV files to accomplish better organization. This is a breakdown (in order) of the following CSV files.\n",
    "1. Total number of injuries. \n",
    "2. Sex\n",
    "3. Age Group\n",
    "4. Body Part that was affected\n",
    "5. Diagnosis of the injury\n",
    "6. The event that occurred/affected the EMS worker\n",
    "7. The source of the event that injured the EMS worker."
   ]
  },
  {
   "cell_type": "code",
   "execution_count": 27,
   "id": "059c06d2",
   "metadata": {},
   "outputs": [],
   "source": [
    "ems_injuries_total = pd.read_csv('EMS Injuries (Total).csv')"
   ]
  },
  {
   "cell_type": "code",
   "execution_count": 28,
   "id": "8da20b75",
   "metadata": {},
   "outputs": [
    {
     "data": {
      "text/html": [
       "<div>\n",
       "<style scoped>\n",
       "    .dataframe tbody tr th:only-of-type {\n",
       "        vertical-align: middle;\n",
       "    }\n",
       "\n",
       "    .dataframe tbody tr th {\n",
       "        vertical-align: top;\n",
       "    }\n",
       "\n",
       "    .dataframe thead th {\n",
       "        text-align: right;\n",
       "    }\n",
       "</style>\n",
       "<table border=\"1\" class=\"dataframe\">\n",
       "  <thead>\n",
       "    <tr style=\"text-align: right;\">\n",
       "      <th></th>\n",
       "      <th>Number of Injuries (Total)</th>\n",
       "    </tr>\n",
       "  </thead>\n",
       "  <tbody>\n",
       "    <tr>\n",
       "      <th>0</th>\n",
       "      <td>16,900</td>\n",
       "    </tr>\n",
       "  </tbody>\n",
       "</table>\n",
       "</div>"
      ],
      "text/plain": [
       "  Number of Injuries (Total)\n",
       "0                     16,900"
      ]
     },
     "execution_count": 28,
     "metadata": {},
     "output_type": "execute_result"
    }
   ],
   "source": [
    "ems_injuries_total"
   ]
  },
  {
   "cell_type": "code",
   "execution_count": 29,
   "id": "a127eb13",
   "metadata": {},
   "outputs": [],
   "source": [
    "ems_injuries_sex = pd.read_csv('EMS Demographics (Sex).csv')"
   ]
  },
  {
   "cell_type": "code",
   "execution_count": 30,
   "id": "e395333d",
   "metadata": {},
   "outputs": [
    {
     "data": {
      "text/html": [
       "<div>\n",
       "<style scoped>\n",
       "    .dataframe tbody tr th:only-of-type {\n",
       "        vertical-align: middle;\n",
       "    }\n",
       "\n",
       "    .dataframe tbody tr th {\n",
       "        vertical-align: top;\n",
       "    }\n",
       "\n",
       "    .dataframe thead th {\n",
       "        text-align: right;\n",
       "    }\n",
       "</style>\n",
       "<table border=\"1\" class=\"dataframe\">\n",
       "  <thead>\n",
       "    <tr style=\"text-align: right;\">\n",
       "      <th></th>\n",
       "      <th>Sex</th>\n",
       "      <th>Total</th>\n",
       "    </tr>\n",
       "  </thead>\n",
       "  <tbody>\n",
       "    <tr>\n",
       "      <th>0</th>\n",
       "      <td>Male</td>\n",
       "      <td>9,900</td>\n",
       "    </tr>\n",
       "    <tr>\n",
       "      <th>1</th>\n",
       "      <td>Female</td>\n",
       "      <td>7,000</td>\n",
       "    </tr>\n",
       "  </tbody>\n",
       "</table>\n",
       "</div>"
      ],
      "text/plain": [
       "      Sex  Total\n",
       "0    Male  9,900\n",
       "1  Female  7,000"
      ]
     },
     "execution_count": 30,
     "metadata": {},
     "output_type": "execute_result"
    }
   ],
   "source": [
    "ems_injuries_sex"
   ]
  },
  {
   "cell_type": "code",
   "execution_count": 31,
   "id": "28ff640c",
   "metadata": {},
   "outputs": [],
   "source": [
    "ems_injuries_age = pd.read_csv('EMS Demographics (Age).csv')"
   ]
  },
  {
   "cell_type": "code",
   "execution_count": 32,
   "id": "b5fe0b59",
   "metadata": {},
   "outputs": [
    {
     "data": {
      "text/html": [
       "<div>\n",
       "<style scoped>\n",
       "    .dataframe tbody tr th:only-of-type {\n",
       "        vertical-align: middle;\n",
       "    }\n",
       "\n",
       "    .dataframe tbody tr th {\n",
       "        vertical-align: top;\n",
       "    }\n",
       "\n",
       "    .dataframe thead th {\n",
       "        text-align: right;\n",
       "    }\n",
       "</style>\n",
       "<table border=\"1\" class=\"dataframe\">\n",
       "  <thead>\n",
       "    <tr style=\"text-align: right;\">\n",
       "      <th></th>\n",
       "      <th>Age Group (in yrs)</th>\n",
       "      <th>Total (Age Group)</th>\n",
       "    </tr>\n",
       "  </thead>\n",
       "  <tbody>\n",
       "    <tr>\n",
       "      <th>0</th>\n",
       "      <td>&lt;25</td>\n",
       "      <td>2,800</td>\n",
       "    </tr>\n",
       "    <tr>\n",
       "      <th>1</th>\n",
       "      <td>25-34</td>\n",
       "      <td>7,000</td>\n",
       "    </tr>\n",
       "    <tr>\n",
       "      <th>2</th>\n",
       "      <td>35-44</td>\n",
       "      <td>3,800</td>\n",
       "    </tr>\n",
       "    <tr>\n",
       "      <th>3</th>\n",
       "      <td>&gt;44</td>\n",
       "      <td>3,330</td>\n",
       "    </tr>\n",
       "  </tbody>\n",
       "</table>\n",
       "</div>"
      ],
      "text/plain": [
       "  Age Group (in yrs) Total (Age Group)\n",
       "0                <25             2,800\n",
       "1              25-34             7,000\n",
       "2              35-44             3,800\n",
       "3                >44             3,330"
      ]
     },
     "execution_count": 32,
     "metadata": {},
     "output_type": "execute_result"
    }
   ],
   "source": [
    "ems_injuries_age"
   ]
  },
  {
   "cell_type": "code",
   "execution_count": 33,
   "id": "f9e85484",
   "metadata": {},
   "outputs": [],
   "source": [
    "ems_injuries_bodypart = pd.read_csv('EMS Injury (Body Part).csv')"
   ]
  },
  {
   "cell_type": "code",
   "execution_count": 34,
   "id": "726cfedf",
   "metadata": {},
   "outputs": [
    {
     "data": {
      "text/html": [
       "<div>\n",
       "<style scoped>\n",
       "    .dataframe tbody tr th:only-of-type {\n",
       "        vertical-align: middle;\n",
       "    }\n",
       "\n",
       "    .dataframe tbody tr th {\n",
       "        vertical-align: top;\n",
       "    }\n",
       "\n",
       "    .dataframe thead th {\n",
       "        text-align: right;\n",
       "    }\n",
       "</style>\n",
       "<table border=\"1\" class=\"dataframe\">\n",
       "  <thead>\n",
       "    <tr style=\"text-align: right;\">\n",
       "      <th></th>\n",
       "      <th>Body Part Affected</th>\n",
       "      <th>Count</th>\n",
       "    </tr>\n",
       "  </thead>\n",
       "  <tbody>\n",
       "    <tr>\n",
       "      <th>0</th>\n",
       "      <td>Leg, including foot</td>\n",
       "      <td>3,200</td>\n",
       "    </tr>\n",
       "    <tr>\n",
       "      <th>1</th>\n",
       "      <td>Upper trunk, inc. neck &amp; shoulder</td>\n",
       "      <td>3,000</td>\n",
       "    </tr>\n",
       "    <tr>\n",
       "      <th>2</th>\n",
       "      <td>Arm</td>\n",
       "      <td>2,200</td>\n",
       "    </tr>\n",
       "    <tr>\n",
       "      <th>3</th>\n",
       "      <td>Lower trunk</td>\n",
       "      <td>2,200</td>\n",
       "    </tr>\n",
       "    <tr>\n",
       "      <th>4</th>\n",
       "      <td>Hand &amp; finger</td>\n",
       "      <td>1,900</td>\n",
       "    </tr>\n",
       "  </tbody>\n",
       "</table>\n",
       "</div>"
      ],
      "text/plain": [
       "                  Body Part Affected  Count\n",
       "0                Leg, including foot  3,200\n",
       "1  Upper trunk, inc. neck & shoulder  3,000\n",
       "2                                Arm  2,200\n",
       "3                        Lower trunk  2,200\n",
       "4                      Hand & finger  1,900"
      ]
     },
     "execution_count": 34,
     "metadata": {},
     "output_type": "execute_result"
    }
   ],
   "source": [
    "ems_injuries_bodypart"
   ]
  },
  {
   "cell_type": "code",
   "execution_count": 35,
   "id": "600fcbc1",
   "metadata": {},
   "outputs": [],
   "source": [
    "ems_injuries_diagnosis = pd.read_csv('EMS Injury (Diagnosis).csv')"
   ]
  },
  {
   "cell_type": "code",
   "execution_count": 36,
   "id": "0844efb1",
   "metadata": {},
   "outputs": [
    {
     "data": {
      "text/html": [
       "<div>\n",
       "<style scoped>\n",
       "    .dataframe tbody tr th:only-of-type {\n",
       "        vertical-align: middle;\n",
       "    }\n",
       "\n",
       "    .dataframe tbody tr th {\n",
       "        vertical-align: top;\n",
       "    }\n",
       "\n",
       "    .dataframe thead th {\n",
       "        text-align: right;\n",
       "    }\n",
       "</style>\n",
       "<table border=\"1\" class=\"dataframe\">\n",
       "  <thead>\n",
       "    <tr style=\"text-align: right;\">\n",
       "      <th></th>\n",
       "      <th>Diagnosis</th>\n",
       "      <th>Count</th>\n",
       "    </tr>\n",
       "  </thead>\n",
       "  <tbody>\n",
       "    <tr>\n",
       "      <th>0</th>\n",
       "      <td>Sprains &amp; strains</td>\n",
       "      <td>4,000</td>\n",
       "    </tr>\n",
       "    <tr>\n",
       "      <th>1</th>\n",
       "      <td>Contusions/abrasions</td>\n",
       "      <td>2,600</td>\n",
       "    </tr>\n",
       "  </tbody>\n",
       "</table>\n",
       "</div>"
      ],
      "text/plain": [
       "              Diagnosis  Count\n",
       "0     Sprains & strains  4,000\n",
       "1  Contusions/abrasions  2,600"
      ]
     },
     "execution_count": 36,
     "metadata": {},
     "output_type": "execute_result"
    }
   ],
   "source": [
    "ems_injuries_diagnosis"
   ]
  },
  {
   "cell_type": "code",
   "execution_count": 37,
   "id": "e8c64e8c",
   "metadata": {},
   "outputs": [],
   "source": [
    "ems_injuries_event = pd.read_csv('EMS Injury (event).csv')"
   ]
  },
  {
   "cell_type": "code",
   "execution_count": 38,
   "id": "dd8dbddf",
   "metadata": {},
   "outputs": [
    {
     "data": {
      "text/html": [
       "<div>\n",
       "<style scoped>\n",
       "    .dataframe tbody tr th:only-of-type {\n",
       "        vertical-align: middle;\n",
       "    }\n",
       "\n",
       "    .dataframe tbody tr th {\n",
       "        vertical-align: top;\n",
       "    }\n",
       "\n",
       "    .dataframe thead th {\n",
       "        text-align: right;\n",
       "    }\n",
       "</style>\n",
       "<table border=\"1\" class=\"dataframe\">\n",
       "  <thead>\n",
       "    <tr style=\"text-align: right;\">\n",
       "      <th></th>\n",
       "      <th>Event</th>\n",
       "      <th>Count</th>\n",
       "    </tr>\n",
       "  </thead>\n",
       "  <tbody>\n",
       "    <tr>\n",
       "      <th>0</th>\n",
       "      <td>Overexertion &amp; bodily reaction</td>\n",
       "      <td>5,200</td>\n",
       "    </tr>\n",
       "    <tr>\n",
       "      <th>1</th>\n",
       "      <td>Violence</td>\n",
       "      <td>3,000</td>\n",
       "    </tr>\n",
       "    <tr>\n",
       "      <th>2</th>\n",
       "      <td>Harmful exposures</td>\n",
       "      <td>2,500</td>\n",
       "    </tr>\n",
       "    <tr>\n",
       "      <th>3</th>\n",
       "      <td>Transportation incidents</td>\n",
       "      <td>2,500</td>\n",
       "    </tr>\n",
       "    <tr>\n",
       "      <th>4</th>\n",
       "      <td>Contact with objects &amp; equipment</td>\n",
       "      <td>2,100</td>\n",
       "    </tr>\n",
       "    <tr>\n",
       "      <th>5</th>\n",
       "      <td>Falls, slips, trips</td>\n",
       "      <td>1,600</td>\n",
       "    </tr>\n",
       "  </tbody>\n",
       "</table>\n",
       "</div>"
      ],
      "text/plain": [
       "                              Event  Count\n",
       "0    Overexertion & bodily reaction  5,200\n",
       "1                          Violence  3,000\n",
       "2                 Harmful exposures  2,500\n",
       "3          Transportation incidents  2,500\n",
       "4  Contact with objects & equipment  2,100\n",
       "5               Falls, slips, trips  1,600"
      ]
     },
     "execution_count": 38,
     "metadata": {},
     "output_type": "execute_result"
    }
   ],
   "source": [
    "ems_injuries_event"
   ]
  },
  {
   "cell_type": "code",
   "execution_count": 39,
   "id": "e0a0a770",
   "metadata": {},
   "outputs": [],
   "source": [
    "ems_injuries_source = pd.read_csv('EMS Injury (Source).csv')"
   ]
  },
  {
   "cell_type": "code",
   "execution_count": 40,
   "id": "c6874170",
   "metadata": {},
   "outputs": [
    {
     "data": {
      "text/html": [
       "<div>\n",
       "<style scoped>\n",
       "    .dataframe tbody tr th:only-of-type {\n",
       "        vertical-align: middle;\n",
       "    }\n",
       "\n",
       "    .dataframe tbody tr th {\n",
       "        vertical-align: top;\n",
       "    }\n",
       "\n",
       "    .dataframe thead th {\n",
       "        text-align: right;\n",
       "    }\n",
       "</style>\n",
       "<table border=\"1\" class=\"dataframe\">\n",
       "  <thead>\n",
       "    <tr style=\"text-align: right;\">\n",
       "      <th></th>\n",
       "      <th>Source</th>\n",
       "      <th>Count</th>\n",
       "    </tr>\n",
       "  </thead>\n",
       "  <tbody>\n",
       "    <tr>\n",
       "      <th>0</th>\n",
       "      <td>Persons, plants, animals, &amp; minerals</td>\n",
       "      <td>9,000</td>\n",
       "    </tr>\n",
       "    <tr>\n",
       "      <th>1</th>\n",
       "      <td>Vehicles</td>\n",
       "      <td>4,100</td>\n",
       "    </tr>\n",
       "    <tr>\n",
       "      <th>2</th>\n",
       "      <td>Tools, instruments, and equipment</td>\n",
       "      <td>1,800</td>\n",
       "    </tr>\n",
       "  </tbody>\n",
       "</table>\n",
       "</div>"
      ],
      "text/plain": [
       "                                 Source Count \n",
       "0  Persons, plants, animals, & minerals  9,000\n",
       "1                              Vehicles  4,100\n",
       "2     Tools, instruments, and equipment  1,800"
      ]
     },
     "execution_count": 40,
     "metadata": {},
     "output_type": "execute_result"
    }
   ],
   "source": [
    "ems_injuries_source"
   ]
  }
 ],
 "metadata": {
  "kernelspec": {
   "display_name": "Python 3 (ipykernel)",
   "language": "python",
   "name": "python3"
  },
  "language_info": {
   "codemirror_mode": {
    "name": "ipython",
    "version": 3
   },
   "file_extension": ".py",
   "mimetype": "text/x-python",
   "name": "python",
   "nbconvert_exporter": "python",
   "pygments_lexer": "ipython3",
   "version": "3.11.4"
  }
 },
 "nbformat": 4,
 "nbformat_minor": 5
}
