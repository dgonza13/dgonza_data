{
 "cells": [
  {
   "cell_type": "markdown",
   "id": "bc4bce89",
   "metadata": {},
   "source": [
    "# Dominic's Final Project - EMS Data & Injury - 12.11.23"
   ]
  },
  {
   "cell_type": "markdown",
   "id": "ae194782",
   "metadata": {},
   "source": [
    "The purpose of this analysis is to understand and attempt to answer the question, \"Have the number and type of injuries in the EMS field affected the number of people pursuing a career in the field?\" \n",
    "\n",
    "I am pursuing this question and analysis because of the personal connection and purpose it has in my own life. I am currently a 3rd generation EMT pursuing my career and soon-to-be firefighter. I understand the risks associated with the profession; however, I also understand the importance of the profession and the duty to serve the community and help others. Unfortunately, it seems there are not as many people pursuing the career as there were many years ago. \n",
    "\n",
    "Thus, for this analysis, my goal is to understand how enrollment in the EMS field has changed and if it correlates with the risk of injuries in the field."
   ]
  },
  {
   "cell_type": "markdown",
   "id": "6b906ee3",
   "metadata": {},
   "source": [
    "The following data has been collected from the US Bureau of Labor Statistics and the CDC. It is valuable as these are government sources that do consistent research in the field of EMS. Government sources are valuable for several reasons including providing information in a neutral and unbiased manner, keeping official records of various activities, being accountable for providing accurate information for maintaining trust, and more. \n",
    "\n",
    "Nevertheless, it's essential to approach any information, including from government sources, with a critical mindset. Governments can sometimes be subject to pressure and the accuracy of information may vary across different agencies.\n",
    "\n",
    "Lastly, each of the sets were copied them into an Excel sheet and modified for better visualization."
   ]
  },
  {
   "cell_type": "code",
   "execution_count": 106,
   "id": "599116fa",
   "metadata": {},
   "outputs": [],
   "source": [
    "#import essential Python libraries\n",
    "\n",
    "import pandas as pd\n",
    "from matplotlib import pyplot as plt\n",
    "import numpy as np\n",
    "from scipy import stats"
   ]
  },
  {
   "cell_type": "markdown",
   "id": "105f20f1",
   "metadata": {},
   "source": [
    "## The following data here is collected from the US Bureau of Labor Statistics\n",
    "\n",
    "https://www.bls.gov/ooh/healthcare/emts-and-paramedics.htm#tab-6"
   ]
  },
  {
   "cell_type": "code",
   "execution_count": 107,
   "id": "253cacee",
   "metadata": {},
   "outputs": [],
   "source": [
    "#EMS Projections\n",
    "\n",
    "ems_projections = pd.read_csv('Employment Projections for EMTs and Paramedics, 2022-32.csv') "
   ]
  },
  {
   "cell_type": "code",
   "execution_count": 108,
   "id": "16ba5654",
   "metadata": {},
   "outputs": [
    {
     "data": {
      "text/html": [
       "<div>\n",
       "<style scoped>\n",
       "    .dataframe tbody tr th:only-of-type {\n",
       "        vertical-align: middle;\n",
       "    }\n",
       "\n",
       "    .dataframe tbody tr th {\n",
       "        vertical-align: top;\n",
       "    }\n",
       "\n",
       "    .dataframe thead th {\n",
       "        text-align: right;\n",
       "    }\n",
       "</style>\n",
       "<table border=\"1\" class=\"dataframe\">\n",
       "  <thead>\n",
       "    <tr style=\"text-align: right;\">\n",
       "      <th></th>\n",
       "      <th>Occupational Title</th>\n",
       "      <th>Employment, 2022</th>\n",
       "      <th>Projected Employment, 2032</th>\n",
       "      <th>Change, 2022-32 (Numeric)</th>\n",
       "      <th>Change, 2022-32 (Percentage)</th>\n",
       "    </tr>\n",
       "  </thead>\n",
       "  <tbody>\n",
       "    <tr>\n",
       "      <th>0</th>\n",
       "      <td>Emergency Medical Technicians and Paramedics</td>\n",
       "      <td>269,000</td>\n",
       "      <td>283,600</td>\n",
       "      <td>14,600</td>\n",
       "      <td>5</td>\n",
       "    </tr>\n",
       "    <tr>\n",
       "      <th>1</th>\n",
       "      <td>Emergency Medical Technicians</td>\n",
       "      <td>170,700</td>\n",
       "      <td>180,000</td>\n",
       "      <td>9,300</td>\n",
       "      <td>5</td>\n",
       "    </tr>\n",
       "    <tr>\n",
       "      <th>2</th>\n",
       "      <td>Paramedics</td>\n",
       "      <td>98,300</td>\n",
       "      <td>103,600</td>\n",
       "      <td>5,300</td>\n",
       "      <td>5</td>\n",
       "    </tr>\n",
       "  </tbody>\n",
       "</table>\n",
       "</div>"
      ],
      "text/plain": [
       "                             Occupational Title Employment, 2022  \\\n",
       "0  Emergency Medical Technicians and Paramedics          269,000   \n",
       "1                 Emergency Medical Technicians          170,700   \n",
       "2                                    Paramedics           98,300   \n",
       "\n",
       "  Projected Employment, 2032 Change, 2022-32 (Numeric)  \\\n",
       "0                    283,600                    14,600   \n",
       "1                    180,000                     9,300   \n",
       "2                    103,600                     5,300   \n",
       "\n",
       "   Change, 2022-32 (Percentage)  \n",
       "0                             5  \n",
       "1                             5  \n",
       "2                             5  "
      ]
     },
     "execution_count": 108,
     "metadata": {},
     "output_type": "execute_result"
    }
   ],
   "source": [
    "ems_projections"
   ]
  },
  {
   "cell_type": "markdown",
   "id": "7257481b",
   "metadata": {},
   "source": [
    "The following section of code you will see throughout the report. This code creates a new column in the DataFrame and assigns it to the cleaned data. Since the data I am working with contains numbers in the thousands, the numerical data is stored as a string with a comma. Before we can use these values we need to remove that comma and convert that data to an integer (instead of a string). The code takes the comma in the string and replaces it with nothing, essentially removing the comma. Then, int() changes the data type to an integer instead of a string so you can use that data in the figures. \n",
    "\n",
    "Credit to Dr. David Silva for this portion of code, guidance, and direction!!"
   ]
  },
  {
   "cell_type": "code",
   "execution_count": 109,
   "id": "349f9b45",
   "metadata": {},
   "outputs": [],
   "source": [
    "ems_projections['Employment, 2022'] = [int(x.replace(',', '')) \n",
    "                                       for x in ems_projections['Employment, 2022']] "
   ]
  },
  {
   "cell_type": "code",
   "execution_count": 110,
   "id": "e3bfa18e",
   "metadata": {},
   "outputs": [],
   "source": [
    "ems_projections['Projected Employment, 2032'] = [int(x.replace(',', '')) \n",
    "                                                 for x in ems_projections['Projected Employment, 2032']]"
   ]
  },
  {
   "cell_type": "markdown",
   "id": "52ce66d5",
   "metadata": {},
   "source": [
    "## The following data here is collected from the CDC\n",
    "\n",
    "https://www.cdc.gov/niosh/topics/ems/data.html#print"
   ]
  },
  {
   "cell_type": "code",
   "execution_count": 111,
   "id": "f9e85484",
   "metadata": {},
   "outputs": [],
   "source": [
    "#Body Part Affected\n",
    "\n",
    "ems_injuries_bodypart = pd.read_csv('EMS Injury (Body Part).csv')"
   ]
  },
  {
   "cell_type": "code",
   "execution_count": 112,
   "id": "726cfedf",
   "metadata": {},
   "outputs": [
    {
     "data": {
      "text/html": [
       "<div>\n",
       "<style scoped>\n",
       "    .dataframe tbody tr th:only-of-type {\n",
       "        vertical-align: middle;\n",
       "    }\n",
       "\n",
       "    .dataframe tbody tr th {\n",
       "        vertical-align: top;\n",
       "    }\n",
       "\n",
       "    .dataframe thead th {\n",
       "        text-align: right;\n",
       "    }\n",
       "</style>\n",
       "<table border=\"1\" class=\"dataframe\">\n",
       "  <thead>\n",
       "    <tr style=\"text-align: right;\">\n",
       "      <th></th>\n",
       "      <th>Body Part Affected</th>\n",
       "      <th>Count (1)</th>\n",
       "    </tr>\n",
       "  </thead>\n",
       "  <tbody>\n",
       "    <tr>\n",
       "      <th>0</th>\n",
       "      <td>Total</td>\n",
       "      <td>12,500</td>\n",
       "    </tr>\n",
       "    <tr>\n",
       "      <th>1</th>\n",
       "      <td>Leg, including foot</td>\n",
       "      <td>3,200</td>\n",
       "    </tr>\n",
       "    <tr>\n",
       "      <th>2</th>\n",
       "      <td>Upper trunk, inc. neck &amp; shoulder</td>\n",
       "      <td>3,000</td>\n",
       "    </tr>\n",
       "    <tr>\n",
       "      <th>3</th>\n",
       "      <td>Arm</td>\n",
       "      <td>2,200</td>\n",
       "    </tr>\n",
       "    <tr>\n",
       "      <th>4</th>\n",
       "      <td>Lower trunk</td>\n",
       "      <td>2,200</td>\n",
       "    </tr>\n",
       "    <tr>\n",
       "      <th>5</th>\n",
       "      <td>Hand &amp; finger</td>\n",
       "      <td>1,900</td>\n",
       "    </tr>\n",
       "  </tbody>\n",
       "</table>\n",
       "</div>"
      ],
      "text/plain": [
       "                  Body Part Affected Count (1)\n",
       "0                              Total    12,500\n",
       "1                Leg, including foot     3,200\n",
       "2  Upper trunk, inc. neck & shoulder     3,000\n",
       "3                                Arm     2,200\n",
       "4                        Lower trunk     2,200\n",
       "5                      Hand & finger     1,900"
      ]
     },
     "execution_count": 112,
     "metadata": {},
     "output_type": "execute_result"
    }
   ],
   "source": [
    "ems_injuries_bodypart"
   ]
  },
  {
   "cell_type": "code",
   "execution_count": 113,
   "id": "dd98a015",
   "metadata": {},
   "outputs": [],
   "source": [
    "ems_injuries_bodypart['Count'] = [int(x.replace(',', '')) for x in ems_injuries_bodypart['Count (1)']]"
   ]
  },
  {
   "cell_type": "code",
   "execution_count": 114,
   "id": "e8c64e8c",
   "metadata": {},
   "outputs": [],
   "source": [
    "#Event that occured to the EMS Responder\n",
    "\n",
    "ems_injuries_event = pd.read_csv('EMS Injury (event).csv')"
   ]
  },
  {
   "cell_type": "code",
   "execution_count": 115,
   "id": "fdf5d872",
   "metadata": {},
   "outputs": [
    {
     "data": {
      "text/html": [
       "<div>\n",
       "<style scoped>\n",
       "    .dataframe tbody tr th:only-of-type {\n",
       "        vertical-align: middle;\n",
       "    }\n",
       "\n",
       "    .dataframe tbody tr th {\n",
       "        vertical-align: top;\n",
       "    }\n",
       "\n",
       "    .dataframe thead th {\n",
       "        text-align: right;\n",
       "    }\n",
       "</style>\n",
       "<table border=\"1\" class=\"dataframe\">\n",
       "  <thead>\n",
       "    <tr style=\"text-align: right;\">\n",
       "      <th></th>\n",
       "      <th>Event</th>\n",
       "      <th>Count (3)</th>\n",
       "    </tr>\n",
       "  </thead>\n",
       "  <tbody>\n",
       "    <tr>\n",
       "      <th>0</th>\n",
       "      <td>Total</td>\n",
       "      <td>16,900</td>\n",
       "    </tr>\n",
       "    <tr>\n",
       "      <th>1</th>\n",
       "      <td>Overexertion &amp; bodily reaction</td>\n",
       "      <td>5,200</td>\n",
       "    </tr>\n",
       "    <tr>\n",
       "      <th>2</th>\n",
       "      <td>Violence</td>\n",
       "      <td>3,000</td>\n",
       "    </tr>\n",
       "    <tr>\n",
       "      <th>3</th>\n",
       "      <td>Harmful exposures</td>\n",
       "      <td>2,500</td>\n",
       "    </tr>\n",
       "    <tr>\n",
       "      <th>4</th>\n",
       "      <td>Transportation incidents</td>\n",
       "      <td>2,500</td>\n",
       "    </tr>\n",
       "    <tr>\n",
       "      <th>5</th>\n",
       "      <td>Contact with objects &amp; equipment</td>\n",
       "      <td>2,100</td>\n",
       "    </tr>\n",
       "    <tr>\n",
       "      <th>6</th>\n",
       "      <td>Falls, slips, trips</td>\n",
       "      <td>1,600</td>\n",
       "    </tr>\n",
       "  </tbody>\n",
       "</table>\n",
       "</div>"
      ],
      "text/plain": [
       "                              Event Count (3)\n",
       "0                             Total    16,900\n",
       "1    Overexertion & bodily reaction     5,200\n",
       "2                          Violence     3,000\n",
       "3                 Harmful exposures     2,500\n",
       "4          Transportation incidents     2,500\n",
       "5  Contact with objects & equipment     2,100\n",
       "6               Falls, slips, trips     1,600"
      ]
     },
     "execution_count": 115,
     "metadata": {},
     "output_type": "execute_result"
    }
   ],
   "source": [
    "ems_injuries_event"
   ]
  },
  {
   "cell_type": "code",
   "execution_count": 116,
   "id": "67c96596",
   "metadata": {},
   "outputs": [],
   "source": [
    "ems_injuries_event['Count'] = [int(x.replace(',', '')) for x in ems_injuries_event['Count (3)']]"
   ]
  },
  {
   "cell_type": "code",
   "execution_count": 117,
   "id": "e0a0a770",
   "metadata": {},
   "outputs": [],
   "source": [
    "#Source of the injury that occured to the EMS Responder\n",
    "\n",
    "ems_injuries_source = pd.read_csv('EMS Injury (Source).csv')"
   ]
  },
  {
   "cell_type": "code",
   "execution_count": 118,
   "id": "c6874170",
   "metadata": {},
   "outputs": [
    {
     "data": {
      "text/html": [
       "<div>\n",
       "<style scoped>\n",
       "    .dataframe tbody tr th:only-of-type {\n",
       "        vertical-align: middle;\n",
       "    }\n",
       "\n",
       "    .dataframe tbody tr th {\n",
       "        vertical-align: top;\n",
       "    }\n",
       "\n",
       "    .dataframe thead th {\n",
       "        text-align: right;\n",
       "    }\n",
       "</style>\n",
       "<table border=\"1\" class=\"dataframe\">\n",
       "  <thead>\n",
       "    <tr style=\"text-align: right;\">\n",
       "      <th></th>\n",
       "      <th>Source</th>\n",
       "      <th>Count (4)</th>\n",
       "    </tr>\n",
       "  </thead>\n",
       "  <tbody>\n",
       "    <tr>\n",
       "      <th>0</th>\n",
       "      <td>Total</td>\n",
       "      <td>14,900</td>\n",
       "    </tr>\n",
       "    <tr>\n",
       "      <th>1</th>\n",
       "      <td>Persons, plants, animals, &amp; minerals</td>\n",
       "      <td>9,000</td>\n",
       "    </tr>\n",
       "    <tr>\n",
       "      <th>2</th>\n",
       "      <td>Vehicles</td>\n",
       "      <td>4,100</td>\n",
       "    </tr>\n",
       "    <tr>\n",
       "      <th>3</th>\n",
       "      <td>Tools, instruments, and equipment</td>\n",
       "      <td>1,800</td>\n",
       "    </tr>\n",
       "  </tbody>\n",
       "</table>\n",
       "</div>"
      ],
      "text/plain": [
       "                                 Source Count (4)\n",
       "0                                 Total    14,900\n",
       "1  Persons, plants, animals, & minerals     9,000\n",
       "2                              Vehicles     4,100\n",
       "3     Tools, instruments, and equipment     1,800"
      ]
     },
     "execution_count": 118,
     "metadata": {},
     "output_type": "execute_result"
    }
   ],
   "source": [
    "ems_injuries_source"
   ]
  },
  {
   "cell_type": "code",
   "execution_count": 119,
   "id": "d609b61e",
   "metadata": {},
   "outputs": [],
   "source": [
    "ems_injuries_source['Count'] = [int(x.replace(',', '')) for x in ems_injuries_source['Count (4)']]"
   ]
  },
  {
   "cell_type": "markdown",
   "id": "dc75e1ce",
   "metadata": {},
   "source": [
    "## Analyzing & Plotting the Data\n",
    "\n",
    "In the following section of my report, I will describe and begin to interpret the data. To understand my goal of how enrollment in the EMS field has changed and if it correlates with the risk of injuries in the field, I plan to use bar plots to visualize the data. I am choosing a bar plot because since I have multiple, separate sets of data that are already interpreted (data that is not raw), I can use the data that has been organized to group the different data sets. I hope to visualize how the data from these different sets might correlate."
   ]
  },
  {
   "cell_type": "code",
   "execution_count": 120,
   "id": "9d0f38d8",
   "metadata": {},
   "outputs": [
    {
     "data": {
      "image/png": "[encoded data removed]",
      "text/plain": [
       "<Figure size 640x480 with 1 Axes>"
      ]
     },
     "metadata": {},
     "output_type": "display_data"
    }
   ],
   "source": [
    "fig1, ax1 = plt.subplots()\n",
    "\n",
    "ax1.bar(x = [0], height = ems_projections['Employment, 2022'], color = 'b')\n",
    "ax1.bar(x = [1], height = ems_projections['Projected Employment, 2032'], color = 'g')\n",
    "\n",
    "plt.title('EMS Employment 2022 vs. 2032') \n",
    "plt.xlabel('EMTs & Paramedics')\n",
    "plt.ylabel('Employment')\n",
    "\n",
    "year = ['2022', '2032']\n",
    "plt.xticks([0, 1], year)\n",
    "\n",
    "plt.show()"
   ]
  },
  {
   "cell_type": "markdown",
   "id": "8c90dc79",
   "metadata": {},
   "source": [
    "The above bar plot shows the number of EMTs and Paramedics who entered the field of EMS in 2022 vs 2032. As we can tell from the bar plot and the previous data set from the US Bureau of Labor Statistics, the number of EMTs and Paramedics is expected to grow at a margin of around 5%. \n",
    "\n",
    "Nevertheless, there are some inadequacies with this data that affect the answer to my question of whether the number and type of injuries in the EMS field affected the number of people pursuing a career in the field. The data is inadequate because, at the time of this report (2023), we have not yet reached the year 2032. We do not know for sure if the number of EMTs and Paramedics will reach this number or increase to around 5% in 2032. Yet, to answer my question, I will continue to use this data to compare it to the number and type of injuries in the EMS in an attempt to understand if it affects people pursuing the career."
   ]
  },
  {
   "cell_type": "code",
   "execution_count": 121,
   "id": "56f271a1",
   "metadata": {},
   "outputs": [
    {
     "data": {
      "image/png": "[encoded data removed]",
      "text/plain": [
       "<Figure size 640x480 with 1 Axes>"
      ]
     },
     "metadata": {},
     "output_type": "display_data"
    }
   ],
   "source": [
    "fig2, ax2 = plt.subplots()\n",
    "\n",
    "ax2.bar(x = [1], height = ems_injuries_bodypart['Count'], color = 'r')\n",
    "ax2.bar(x = [2], height = ems_injuries_event['Count'], color = 'm')\n",
    "ax2.bar(x = [3], height = ems_injuries_source['Count'], color = 'y')\n",
    "\n",
    "plt.title('Total Number of Injuries with Origin') \n",
    "plt.ylabel('Total Number of Injury')\n",
    "\n",
    "orgin = ['Body Part', 'Event', 'Source']\n",
    "plt.xticks([1, 2, 3], orgin)\n",
    "\n",
    "plt.show()"
   ]
  },
  {
   "cell_type": "markdown",
   "id": "e1d362a5",
   "metadata": {},
   "source": [
    "The above chart plots the total number of injuries that occurred in the EMS related to body parts, the event that occurred, and the source of the event. The data loaded previously demonstrates the breakdown of these injuries; however, for this report, I have calculated the total of each category and graphed these together."
   ]
  },
  {
   "cell_type": "code",
   "execution_count": 122,
   "id": "a5c41b0c",
   "metadata": {},
   "outputs": [
    {
     "data": {
      "image/png": "[encoded data removed]",
      "text/plain": [
       "<Figure size 640x480 with 1 Axes>"
      ]
     },
     "metadata": {},
     "output_type": "display_data"
    }
   ],
   "source": [
    "fig3, ax3 = plt.subplots()\n",
    "\n",
    "ax3.bar(x = [1], height = ems_projections['Employment, 2022'], color = 'b')\n",
    "ax3.bar(x = [2], height = ems_projections['Projected Employment, 2032'], color = 'g')\n",
    "ax3.bar(x = [3], height = ems_injuries_bodypart['Count'], color = 'r')\n",
    "ax3.bar(x = [4], height = ems_injuries_event['Count'], color = 'm')\n",
    "ax3.bar(x = [5], height = ems_injuries_source['Count'], color = 'y')\n",
    "\n",
    "plt.title('EMS Employment & Total Number of Injuries with Origin') \n",
    "plt.xlabel('EMTs and Paramedics')\n",
    "plt.ylabel('Employment & Injury Totals')\n",
    "plt.grid(axis='y')\n",
    "\n",
    "complete = ['2022', '2032','Body Part', 'Event', 'Source']\n",
    "plt.xticks([1, 2, 3, 4, 5], complete)\n",
    "\n",
    "plt.show()"
   ]
  },
  {
   "cell_type": "markdown",
   "id": "cd17d1c1",
   "metadata": {},
   "source": [
    "This final bar chart compares the two previous coded charts. While there may be some challenges and limitations to the data, using the data that I have allows me to put them side by side and make some inferences. One of these infrences is an attempted answer to my question, the total number of injuries that occur in the EMS field does not correlate or affect the number of people pursuing a career in the field. By comparing the injuries to the total number of EMTs and Paramedics entering the field, we can see that the number of people entering the field in both 2022 and the projected 2032, far outweighs the number of injuries. In other words, while there are injuries that occur on the job, it seems that people still prefer EMS as a career despite the risk of injury."
   ]
  },
  {
   "cell_type": "markdown",
   "id": "4545f646",
   "metadata": {},
   "source": [
    "# Conclusion & Analysis\n",
    "\n",
    "As this report ends, there are gaps and inadequacies, rendering it incomplete. I believe the data report faced challenges related to completeness, from the necessity to modify the data for better visualization. While I intended to improve the presentation and interpretation of the data, transforming it has introduced complexities that impact the overall ability to interpret the report. \n",
    "\n",
    "Nevertheless, I can make some interpretations based on the data that was collected, stored, and organized. For example, in the table \"ems_projections,\" projected employment from 2022 is expected to grow 5% between now and 2032 for both EMTs and paramedics. By understanding this data, we may be able to conclude that the number and type of injuries in the EMS field may not impact the number of people pursuing a career in the field.\n",
    "\n",
    "The ability to collect data from the CDC about the injuries to EMS workers was a valuable data set. While some characteristics and information were excluded from this report (such as age and gender), the data that was collected allowed me to make estimations about the types and numbers of injuries. Another limitation is that this report does not include all types of EMS workers such as nurses, doctors, health practitioners, etc. The data was also rounded to the nearest thousand, thus, we cannot fully document every injury that occurred in the field.\n",
    "\n",
    "If I were to return to this data report in the future, I think there would be quite a few things I would change because of the limitations I had. This data may not have been exactly what I needed to answer my question therefore, some things that I would change would be to either locate more sources of data or find a way to better organize the data. I think that because I had separate sheets, it affected my ability to parse through the data and find sets that work correctly with each other. I also think that if I approached the question from a different perspective, I may have been able to find data that would better answer my question. In other words, while I believe my question is purposeful, perhaps gathering data from periods like 1980, 1990, etc., and comparing it to today would change my analysis. The field of EMS has come a long way since 1980 as awareness of injury, mental health, technology, and more have advanced. Therefore, if the number of people pursuing careers in EMS has decreased in recent years, why were they so high many years ago? \n",
    "I think a different approach to my question could be the key to understanding if injuries relate to the pursuit of the EMS or if and what other reasons there may be for the change in the profession.\n",
    "\n",
    "Even with the limitations of the data, I would say that the number and type of injuries that occur in the field of EMS somewhat but not fully, relate to the number of people pursuing a career in EMS. No one wants to get injured in their job/line of work. This may have impacted some people's decision to choose EMS as a career because they fear injury. This is a very logical concept. However, the field of health care and EMS is also rewarding. The ability to help people and positively impact their lives, despite your own, may be enough for some people to overcome their fears and step into the line of service. I strongly believe that my question and goal for the project were one of value. Attempting to understand if, how, and why injuries in the EMS field relate to the number of people pursuing a career in the field, is important because we always need more caregivers in the world. With the way our world is today, having more people to serve the community can impact our world and keep people together.\n",
    "\n",
    "In the end, if the audience were to take away anything from this data report, I believe it would be that while there is risk in the field of healthcare, the benefits outweigh the costs. While this statement may be bais as I am an EMT myself, I think we would all agree that our healthcare workers are some of the strongest people our world has. The ability to put themselves aside for the greater good is something I have admired and is just one of the reasons why I decided to become an EMT. Yes, there is risk in this field as shown by the injury data (CDC), but there are also still people pursuing careers in the field (Labor Statistics)."
   ]
  }
 ],
 "metadata": {
  "kernelspec": {
   "display_name": "Python 3 (ipykernel)",
   "language": "python",
   "name": "python3"
  },
  "language_info": {
   "codemirror_mode": {
    "name": "ipython",
    "version": 3
   },
   "file_extension": ".py",
   "mimetype": "text/x-python",
   "name": "python",
   "nbconvert_exporter": "python",
   "pygments_lexer": "ipython3",
   "version": "3.11.4"
  }
 },
 "nbformat": 4,
 "nbformat_minor": 5
}
