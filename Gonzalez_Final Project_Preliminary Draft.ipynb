{
 "cells": [
  {
   "cell_type": "markdown",
   "id": "bc4bce89",
   "metadata": {},
   "source": [
    "# Dominic's Final Project - EMS Data & Injury - 12.11.23"
   ]
  },
  {
   "cell_type": "markdown",
   "id": "ae194782",
   "metadata": {},
   "source": [
    "The purpose of this analysis is to understand and attempt to find an answer to the question, \"Have the number and type of injuries in the EMS field (x) affected the number of people pursuing a career in the field (y)?\" \n",
    "\n",
    "I am pursuing this question and analysis because of the personal connection and purpose it has in my own life. I am currently a 3rd generation EMT pursuing my career and as an EMT (soon to be a firefighter), I understand the risks associated with the profession. However, I also understand the importance of the profession and the duty to serve the community and help others. Unfortunately, there are not as many people pursuing the career as there were many years ago. \n",
    "\n",
    "Thus, for the purpose of this analysis, my goal is to understand how enrollment in the EMS field has changed and if it correlates with the risk of injuries in the field. "
   ]
  },
  {
   "cell_type": "code",
   "execution_count": 1,
   "id": "599116fa",
   "metadata": {},
   "outputs": [],
   "source": [
    "import pandas as pd\n",
    "from matplotlib import pyplot as plt\n",
    "import numpy as np\n",
    "from scipy import stats\n",
    "import requests\n",
    "import base64\n",
    "import json\n",
    "import urllib"
   ]
  },
  {
   "cell_type": "markdown",
   "id": "e9f7342d",
   "metadata": {},
   "source": [
    "The following data has been collected from the US Bureau of Labor Statistics and the CDC. It is valuable as these are government sources that do consistent research in the field of EMS. Government sources are valuable for several reasons including providing information in a neutral and unbiased manner, keeping official records of various activities, being accountable for providing accurate information for maintaining trust, and more. \n",
    "\n",
    "Nevertheless, it's essential to approach any information, including from government sources, with a critical mindset. Governments can sometimes be subject to pressure and the accuracy of information may vary across different agencies.\n",
    "\n",
    "To better visualize the data, I took each of the sets, copied them into an Excel sheet, and modified them."
   ]
  },
  {
   "cell_type": "code",
   "execution_count": 2,
   "id": "253cacee",
   "metadata": {},
   "outputs": [],
   "source": [
    "ems_projections = pd.read_csv('Employment Projections for EMTs and Paramedics, 2022-32.csv') "
   ]
  },
  {
   "cell_type": "code",
   "execution_count": 3,
   "id": "16ba5654",
   "metadata": {},
   "outputs": [
    {
     "data": {
      "text/html": [
       "<div>\n",
       "<style scoped>\n",
       "    .dataframe tbody tr th:only-of-type {\n",
       "        vertical-align: middle;\n",
       "    }\n",
       "\n",
       "    .dataframe tbody tr th {\n",
       "        vertical-align: top;\n",
       "    }\n",
       "\n",
       "    .dataframe thead th {\n",
       "        text-align: right;\n",
       "    }\n",
       "</style>\n",
       "<table border=\"1\" class=\"dataframe\">\n",
       "  <thead>\n",
       "    <tr style=\"text-align: right;\">\n",
       "      <th></th>\n",
       "      <th>Occupational Title</th>\n",
       "      <th>Employment, 2022</th>\n",
       "      <th>Projected Employment, 2032</th>\n",
       "      <th>Change, 2022-32 (Numeric)</th>\n",
       "      <th>Change, 2022-32 (Percentage)</th>\n",
       "    </tr>\n",
       "  </thead>\n",
       "  <tbody>\n",
       "    <tr>\n",
       "      <th>0</th>\n",
       "      <td>Emergency Medical Technicians and Paramedics</td>\n",
       "      <td>269,000</td>\n",
       "      <td>283,600</td>\n",
       "      <td>14,600</td>\n",
       "      <td>5</td>\n",
       "    </tr>\n",
       "    <tr>\n",
       "      <th>1</th>\n",
       "      <td>Emergency Medical Technicians</td>\n",
       "      <td>170,700</td>\n",
       "      <td>180,000</td>\n",
       "      <td>9,300</td>\n",
       "      <td>5</td>\n",
       "    </tr>\n",
       "    <tr>\n",
       "      <th>2</th>\n",
       "      <td>Paramedics</td>\n",
       "      <td>98,300</td>\n",
       "      <td>103,600</td>\n",
       "      <td>5,300</td>\n",
       "      <td>5</td>\n",
       "    </tr>\n",
       "  </tbody>\n",
       "</table>\n",
       "</div>"
      ],
      "text/plain": [
       "                             Occupational Title Employment, 2022  \\\n",
       "0  Emergency Medical Technicians and Paramedics          269,000   \n",
       "1                 Emergency Medical Technicians          170,700   \n",
       "2                                    Paramedics           98,300   \n",
       "\n",
       "  Projected Employment, 2032 Change, 2022-32 (Numeric)  \\\n",
       "0                    283,600                    14,600   \n",
       "1                    180,000                     9,300   \n",
       "2                    103,600                     5,300   \n",
       "\n",
       "   Change, 2022-32 (Percentage)  \n",
       "0                             5  \n",
       "1                             5  \n",
       "2                             5  "
      ]
     },
     "execution_count": 3,
     "metadata": {},
     "output_type": "execute_result"
    }
   ],
   "source": [
    "ems_projections #Data collected from the US Bureau of Labor Statistics\n",
    "                #https://www.bls.gov/ooh/healthcare/emts-and-paramedics.htm#tab-6"
   ]
  },
  {
   "cell_type": "code",
   "execution_count": 4,
   "id": "b5eb1f5e",
   "metadata": {},
   "outputs": [],
   "source": [
    "ems_outlook = pd.read_csv('EMS Employment Outlook.csv')"
   ]
  },
  {
   "cell_type": "code",
   "execution_count": 5,
   "id": "4f334d1b",
   "metadata": {},
   "outputs": [
    {
     "data": {
      "text/html": [
       "<div>\n",
       "<style scoped>\n",
       "    .dataframe tbody tr th:only-of-type {\n",
       "        vertical-align: middle;\n",
       "    }\n",
       "\n",
       "    .dataframe tbody tr th {\n",
       "        vertical-align: top;\n",
       "    }\n",
       "\n",
       "    .dataframe thead th {\n",
       "        text-align: right;\n",
       "    }\n",
       "</style>\n",
       "<table border=\"1\" class=\"dataframe\">\n",
       "  <thead>\n",
       "    <tr style=\"text-align: right;\">\n",
       "      <th></th>\n",
       "      <th>Type of Work</th>\n",
       "      <th>2022 Employment</th>\n",
       "      <th>Projected 2032 Employment</th>\n",
       "      <th>Employment Percent Change, 2022-2032</th>\n",
       "    </tr>\n",
       "  </thead>\n",
       "  <tbody>\n",
       "    <tr>\n",
       "      <th>0</th>\n",
       "      <td>Healthcare and social assistance</td>\n",
       "      <td>178.3</td>\n",
       "      <td>187.7</td>\n",
       "      <td>5.3</td>\n",
       "    </tr>\n",
       "    <tr>\n",
       "      <th>1</th>\n",
       "      <td>Ambulatory healthcare services</td>\n",
       "      <td>126.8</td>\n",
       "      <td>134.5</td>\n",
       "      <td>6.0</td>\n",
       "    </tr>\n",
       "    <tr>\n",
       "      <th>2</th>\n",
       "      <td>Offices of physicians</td>\n",
       "      <td>3.2</td>\n",
       "      <td>3.3</td>\n",
       "      <td>2.9</td>\n",
       "    </tr>\n",
       "    <tr>\n",
       "      <th>3</th>\n",
       "      <td>Offices of other health practitioners</td>\n",
       "      <td>0.5</td>\n",
       "      <td>0.6</td>\n",
       "      <td>12.7</td>\n",
       "    </tr>\n",
       "    <tr>\n",
       "      <th>4</th>\n",
       "      <td>Offices of all other health practitioners</td>\n",
       "      <td>0.5</td>\n",
       "      <td>0.5</td>\n",
       "      <td>11.6</td>\n",
       "    </tr>\n",
       "    <tr>\n",
       "      <th>5</th>\n",
       "      <td>Outpatient care centers</td>\n",
       "      <td>3.5</td>\n",
       "      <td>4.2</td>\n",
       "      <td>18.3</td>\n",
       "    </tr>\n",
       "    <tr>\n",
       "      <th>6</th>\n",
       "      <td>Medical and diagnostic laboratories</td>\n",
       "      <td>0.3</td>\n",
       "      <td>0.3</td>\n",
       "      <td>8.6</td>\n",
       "    </tr>\n",
       "    <tr>\n",
       "      <th>7</th>\n",
       "      <td>Other ambulatory healthcare services</td>\n",
       "      <td>119.2</td>\n",
       "      <td>126.0</td>\n",
       "      <td>5.7</td>\n",
       "    </tr>\n",
       "    <tr>\n",
       "      <th>8</th>\n",
       "      <td>Ambulance services</td>\n",
       "      <td>117.2</td>\n",
       "      <td>123.7</td>\n",
       "      <td>5.5</td>\n",
       "    </tr>\n",
       "    <tr>\n",
       "      <th>9</th>\n",
       "      <td>All other ambulatory healthcare services</td>\n",
       "      <td>2.0</td>\n",
       "      <td>2.3</td>\n",
       "      <td>18.2</td>\n",
       "    </tr>\n",
       "    <tr>\n",
       "      <th>10</th>\n",
       "      <td>Hospitals; state, local, and private</td>\n",
       "      <td>50.6</td>\n",
       "      <td>52.2</td>\n",
       "      <td>3.3</td>\n",
       "    </tr>\n",
       "    <tr>\n",
       "      <th>11</th>\n",
       "      <td>General medical and surgical hospitals; state,...</td>\n",
       "      <td>50.0</td>\n",
       "      <td>51.6</td>\n",
       "      <td>3.2</td>\n",
       "    </tr>\n",
       "    <tr>\n",
       "      <th>12</th>\n",
       "      <td>General medical and surgical hospitals; private</td>\n",
       "      <td>38.1</td>\n",
       "      <td>39.6</td>\n",
       "      <td>4.0</td>\n",
       "    </tr>\n",
       "    <tr>\n",
       "      <th>13</th>\n",
       "      <td>General medical and surgical hospitals; state</td>\n",
       "      <td>2.1</td>\n",
       "      <td>2.1</td>\n",
       "      <td>-0.5</td>\n",
       "    </tr>\n",
       "    <tr>\n",
       "      <th>14</th>\n",
       "      <td>General medical and surgical hospitals; local</td>\n",
       "      <td>9.8</td>\n",
       "      <td>9.9</td>\n",
       "      <td>0.7</td>\n",
       "    </tr>\n",
       "    <tr>\n",
       "      <th>15</th>\n",
       "      <td>Specialty (except psychiatric and substance ab...</td>\n",
       "      <td>0.6</td>\n",
       "      <td>0.6</td>\n",
       "      <td>9.4</td>\n",
       "    </tr>\n",
       "    <tr>\n",
       "      <th>16</th>\n",
       "      <td>Specialty (except psychiatric and substance ab...</td>\n",
       "      <td>0.5</td>\n",
       "      <td>0.6</td>\n",
       "      <td>10.1</td>\n",
       "    </tr>\n",
       "    <tr>\n",
       "      <th>17</th>\n",
       "      <td>Nursing and residential care facilities</td>\n",
       "      <td>0.3</td>\n",
       "      <td>0.3</td>\n",
       "      <td>8.0</td>\n",
       "    </tr>\n",
       "    <tr>\n",
       "      <th>18</th>\n",
       "      <td>Nursing care facilities (skilled nursing facil...</td>\n",
       "      <td>0.1</td>\n",
       "      <td>0.1</td>\n",
       "      <td>-2.6</td>\n",
       "    </tr>\n",
       "    <tr>\n",
       "      <th>19</th>\n",
       "      <td>Residential intellectual and developmental dis...</td>\n",
       "      <td>0.1</td>\n",
       "      <td>0.1</td>\n",
       "      <td>11.1</td>\n",
       "    </tr>\n",
       "    <tr>\n",
       "      <th>20</th>\n",
       "      <td>Residential mental health and substance abuse ...</td>\n",
       "      <td>0.1</td>\n",
       "      <td>0.1</td>\n",
       "      <td>11.1</td>\n",
       "    </tr>\n",
       "  </tbody>\n",
       "</table>\n",
       "</div>"
      ],
      "text/plain": [
       "                                         Type of Work  2022 Employment  \\\n",
       "0                    Healthcare and social assistance            178.3   \n",
       "1                      Ambulatory healthcare services            126.8   \n",
       "2                               Offices of physicians              3.2   \n",
       "3               Offices of other health practitioners              0.5   \n",
       "4           Offices of all other health practitioners              0.5   \n",
       "5                             Outpatient care centers              3.5   \n",
       "6                 Medical and diagnostic laboratories              0.3   \n",
       "7                Other ambulatory healthcare services            119.2   \n",
       "8                                  Ambulance services            117.2   \n",
       "9            All other ambulatory healthcare services              2.0   \n",
       "10               Hospitals; state, local, and private             50.6   \n",
       "11  General medical and surgical hospitals; state,...             50.0   \n",
       "12    General medical and surgical hospitals; private             38.1   \n",
       "13      General medical and surgical hospitals; state              2.1   \n",
       "14      General medical and surgical hospitals; local              9.8   \n",
       "15  Specialty (except psychiatric and substance ab...              0.6   \n",
       "16  Specialty (except psychiatric and substance ab...              0.5   \n",
       "17            Nursing and residential care facilities              0.3   \n",
       "18  Nursing care facilities (skilled nursing facil...              0.1   \n",
       "19  Residential intellectual and developmental dis...              0.1   \n",
       "20  Residential mental health and substance abuse ...              0.1   \n",
       "\n",
       "    Projected 2032 Employment  Employment Percent Change, 2022-2032  \n",
       "0                       187.7                                   5.3  \n",
       "1                       134.5                                   6.0  \n",
       "2                         3.3                                   2.9  \n",
       "3                         0.6                                  12.7  \n",
       "4                         0.5                                  11.6  \n",
       "5                         4.2                                  18.3  \n",
       "6                         0.3                                   8.6  \n",
       "7                       126.0                                   5.7  \n",
       "8                       123.7                                   5.5  \n",
       "9                         2.3                                  18.2  \n",
       "10                       52.2                                   3.3  \n",
       "11                       51.6                                   3.2  \n",
       "12                       39.6                                   4.0  \n",
       "13                        2.1                                  -0.5  \n",
       "14                        9.9                                   0.7  \n",
       "15                        0.6                                   9.4  \n",
       "16                        0.6                                  10.1  \n",
       "17                        0.3                                   8.0  \n",
       "18                        0.1                                  -2.6  \n",
       "19                        0.1                                  11.1  \n",
       "20                        0.1                                  11.1  "
      ]
     },
     "execution_count": 5,
     "metadata": {},
     "output_type": "execute_result"
    }
   ],
   "source": [
    "ems_outlook #Data collected from the US Bureau of Labor Statistics"
   ]
  },
  {
   "cell_type": "code",
   "execution_count": 6,
   "id": "059c06d2",
   "metadata": {},
   "outputs": [],
   "source": [
    "ems_injuries_total = pd.read_csv('EMS Injuries (Total).csv') #All following data collected from the CDC\n",
    "                                                            #https://www.cdc.gov/niosh/topics/ems/data.html#print"
   ]
  },
  {
   "cell_type": "code",
   "execution_count": 7,
   "id": "8da20b75",
   "metadata": {},
   "outputs": [
    {
     "data": {
      "text/html": [
       "<div>\n",
       "<style scoped>\n",
       "    .dataframe tbody tr th:only-of-type {\n",
       "        vertical-align: middle;\n",
       "    }\n",
       "\n",
       "    .dataframe tbody tr th {\n",
       "        vertical-align: top;\n",
       "    }\n",
       "\n",
       "    .dataframe thead th {\n",
       "        text-align: right;\n",
       "    }\n",
       "</style>\n",
       "<table border=\"1\" class=\"dataframe\">\n",
       "  <thead>\n",
       "    <tr style=\"text-align: right;\">\n",
       "      <th></th>\n",
       "      <th>Number of Injuries (Total)</th>\n",
       "    </tr>\n",
       "  </thead>\n",
       "  <tbody>\n",
       "    <tr>\n",
       "      <th>0</th>\n",
       "      <td>16,900</td>\n",
       "    </tr>\n",
       "  </tbody>\n",
       "</table>\n",
       "</div>"
      ],
      "text/plain": [
       "  Number of Injuries (Total)\n",
       "0                     16,900"
      ]
     },
     "execution_count": 7,
     "metadata": {},
     "output_type": "execute_result"
    }
   ],
   "source": [
    "ems_injuries_total"
   ]
  },
  {
   "cell_type": "code",
   "execution_count": 8,
   "id": "a127eb13",
   "metadata": {},
   "outputs": [],
   "source": [
    "ems_injuries_sex = pd.read_csv('EMS Demographics (Sex).csv')"
   ]
  },
  {
   "cell_type": "code",
   "execution_count": 9,
   "id": "e395333d",
   "metadata": {},
   "outputs": [
    {
     "data": {
      "text/html": [
       "<div>\n",
       "<style scoped>\n",
       "    .dataframe tbody tr th:only-of-type {\n",
       "        vertical-align: middle;\n",
       "    }\n",
       "\n",
       "    .dataframe tbody tr th {\n",
       "        vertical-align: top;\n",
       "    }\n",
       "\n",
       "    .dataframe thead th {\n",
       "        text-align: right;\n",
       "    }\n",
       "</style>\n",
       "<table border=\"1\" class=\"dataframe\">\n",
       "  <thead>\n",
       "    <tr style=\"text-align: right;\">\n",
       "      <th></th>\n",
       "      <th>Sex</th>\n",
       "      <th>Total</th>\n",
       "    </tr>\n",
       "  </thead>\n",
       "  <tbody>\n",
       "    <tr>\n",
       "      <th>0</th>\n",
       "      <td>Male</td>\n",
       "      <td>9,900</td>\n",
       "    </tr>\n",
       "    <tr>\n",
       "      <th>1</th>\n",
       "      <td>Female</td>\n",
       "      <td>7,000</td>\n",
       "    </tr>\n",
       "  </tbody>\n",
       "</table>\n",
       "</div>"
      ],
      "text/plain": [
       "      Sex  Total\n",
       "0    Male  9,900\n",
       "1  Female  7,000"
      ]
     },
     "execution_count": 9,
     "metadata": {},
     "output_type": "execute_result"
    }
   ],
   "source": [
    "ems_injuries_sex"
   ]
  },
  {
   "cell_type": "code",
   "execution_count": 10,
   "id": "28ff640c",
   "metadata": {},
   "outputs": [],
   "source": [
    "ems_injuries_age = pd.read_csv('EMS Demographics (Age).csv')"
   ]
  },
  {
   "cell_type": "code",
   "execution_count": 11,
   "id": "b5fe0b59",
   "metadata": {},
   "outputs": [
    {
     "data": {
      "text/html": [
       "<div>\n",
       "<style scoped>\n",
       "    .dataframe tbody tr th:only-of-type {\n",
       "        vertical-align: middle;\n",
       "    }\n",
       "\n",
       "    .dataframe tbody tr th {\n",
       "        vertical-align: top;\n",
       "    }\n",
       "\n",
       "    .dataframe thead th {\n",
       "        text-align: right;\n",
       "    }\n",
       "</style>\n",
       "<table border=\"1\" class=\"dataframe\">\n",
       "  <thead>\n",
       "    <tr style=\"text-align: right;\">\n",
       "      <th></th>\n",
       "      <th>Age Group (in yrs)</th>\n",
       "      <th>Total (Age Group)</th>\n",
       "    </tr>\n",
       "  </thead>\n",
       "  <tbody>\n",
       "    <tr>\n",
       "      <th>0</th>\n",
       "      <td>&lt;25</td>\n",
       "      <td>2,800</td>\n",
       "    </tr>\n",
       "    <tr>\n",
       "      <th>1</th>\n",
       "      <td>25-34</td>\n",
       "      <td>7,000</td>\n",
       "    </tr>\n",
       "    <tr>\n",
       "      <th>2</th>\n",
       "      <td>35-44</td>\n",
       "      <td>3,800</td>\n",
       "    </tr>\n",
       "    <tr>\n",
       "      <th>3</th>\n",
       "      <td>&gt;44</td>\n",
       "      <td>3,330</td>\n",
       "    </tr>\n",
       "  </tbody>\n",
       "</table>\n",
       "</div>"
      ],
      "text/plain": [
       "  Age Group (in yrs) Total (Age Group)\n",
       "0                <25             2,800\n",
       "1              25-34             7,000\n",
       "2              35-44             3,800\n",
       "3                >44             3,330"
      ]
     },
     "execution_count": 11,
     "metadata": {},
     "output_type": "execute_result"
    }
   ],
   "source": [
    "ems_injuries_age"
   ]
  },
  {
   "cell_type": "code",
   "execution_count": 12,
   "id": "f9e85484",
   "metadata": {},
   "outputs": [],
   "source": [
    "ems_injuries_bodypart = pd.read_csv('EMS Injury (Body Part).csv')"
   ]
  },
  {
   "cell_type": "code",
   "execution_count": 13,
   "id": "726cfedf",
   "metadata": {},
   "outputs": [
    {
     "data": {
      "text/html": [
       "<div>\n",
       "<style scoped>\n",
       "    .dataframe tbody tr th:only-of-type {\n",
       "        vertical-align: middle;\n",
       "    }\n",
       "\n",
       "    .dataframe tbody tr th {\n",
       "        vertical-align: top;\n",
       "    }\n",
       "\n",
       "    .dataframe thead th {\n",
       "        text-align: right;\n",
       "    }\n",
       "</style>\n",
       "<table border=\"1\" class=\"dataframe\">\n",
       "  <thead>\n",
       "    <tr style=\"text-align: right;\">\n",
       "      <th></th>\n",
       "      <th>Body Part Affected</th>\n",
       "      <th>Count (1)</th>\n",
       "    </tr>\n",
       "  </thead>\n",
       "  <tbody>\n",
       "    <tr>\n",
       "      <th>0</th>\n",
       "      <td>Leg, including foot</td>\n",
       "      <td>3,200</td>\n",
       "    </tr>\n",
       "    <tr>\n",
       "      <th>1</th>\n",
       "      <td>Upper trunk, inc. neck &amp; shoulder</td>\n",
       "      <td>3,000</td>\n",
       "    </tr>\n",
       "    <tr>\n",
       "      <th>2</th>\n",
       "      <td>Arm</td>\n",
       "      <td>2,200</td>\n",
       "    </tr>\n",
       "    <tr>\n",
       "      <th>3</th>\n",
       "      <td>Lower trunk</td>\n",
       "      <td>2,200</td>\n",
       "    </tr>\n",
       "    <tr>\n",
       "      <th>4</th>\n",
       "      <td>Hand &amp; finger</td>\n",
       "      <td>1,900</td>\n",
       "    </tr>\n",
       "  </tbody>\n",
       "</table>\n",
       "</div>"
      ],
      "text/plain": [
       "                  Body Part Affected Count (1)\n",
       "0                Leg, including foot     3,200\n",
       "1  Upper trunk, inc. neck & shoulder     3,000\n",
       "2                                Arm     2,200\n",
       "3                        Lower trunk     2,200\n",
       "4                      Hand & finger     1,900"
      ]
     },
     "execution_count": 13,
     "metadata": {},
     "output_type": "execute_result"
    }
   ],
   "source": [
    "ems_injuries_bodypart"
   ]
  },
  {
   "cell_type": "code",
   "execution_count": 14,
   "id": "600fcbc1",
   "metadata": {},
   "outputs": [],
   "source": [
    "ems_injuries_diagnosis = pd.read_csv('EMS Injury (Diagnosis).csv')"
   ]
  },
  {
   "cell_type": "code",
   "execution_count": 15,
   "id": "0844efb1",
   "metadata": {},
   "outputs": [
    {
     "data": {
      "text/html": [
       "<div>\n",
       "<style scoped>\n",
       "    .dataframe tbody tr th:only-of-type {\n",
       "        vertical-align: middle;\n",
       "    }\n",
       "\n",
       "    .dataframe tbody tr th {\n",
       "        vertical-align: top;\n",
       "    }\n",
       "\n",
       "    .dataframe thead th {\n",
       "        text-align: right;\n",
       "    }\n",
       "</style>\n",
       "<table border=\"1\" class=\"dataframe\">\n",
       "  <thead>\n",
       "    <tr style=\"text-align: right;\">\n",
       "      <th></th>\n",
       "      <th>Diagnosis</th>\n",
       "      <th>Count (2)</th>\n",
       "    </tr>\n",
       "  </thead>\n",
       "  <tbody>\n",
       "    <tr>\n",
       "      <th>0</th>\n",
       "      <td>Sprains &amp; strains</td>\n",
       "      <td>4,000</td>\n",
       "    </tr>\n",
       "    <tr>\n",
       "      <th>1</th>\n",
       "      <td>Contusions/abrasions</td>\n",
       "      <td>2,600</td>\n",
       "    </tr>\n",
       "  </tbody>\n",
       "</table>\n",
       "</div>"
      ],
      "text/plain": [
       "              Diagnosis Count (2)\n",
       "0     Sprains & strains     4,000\n",
       "1  Contusions/abrasions     2,600"
      ]
     },
     "execution_count": 15,
     "metadata": {},
     "output_type": "execute_result"
    }
   ],
   "source": [
    "ems_injuries_diagnosis"
   ]
  },
  {
   "cell_type": "code",
   "execution_count": 16,
   "id": "e8c64e8c",
   "metadata": {},
   "outputs": [],
   "source": [
    "ems_injuries_event = pd.read_csv('EMS Injury (event).csv')"
   ]
  },
  {
   "cell_type": "code",
   "execution_count": 30,
   "id": "fdf5d872",
   "metadata": {},
   "outputs": [
    {
     "data": {
      "text/html": [
       "<div>\n",
       "<style scoped>\n",
       "    .dataframe tbody tr th:only-of-type {\n",
       "        vertical-align: middle;\n",
       "    }\n",
       "\n",
       "    .dataframe tbody tr th {\n",
       "        vertical-align: top;\n",
       "    }\n",
       "\n",
       "    .dataframe thead th {\n",
       "        text-align: right;\n",
       "    }\n",
       "</style>\n",
       "<table border=\"1\" class=\"dataframe\">\n",
       "  <thead>\n",
       "    <tr style=\"text-align: right;\">\n",
       "      <th></th>\n",
       "      <th>Event</th>\n",
       "      <th>Count (3)</th>\n",
       "    </tr>\n",
       "  </thead>\n",
       "  <tbody>\n",
       "    <tr>\n",
       "      <th>0</th>\n",
       "      <td>Overexertion &amp; bodily reaction</td>\n",
       "      <td>5,200</td>\n",
       "    </tr>\n",
       "    <tr>\n",
       "      <th>1</th>\n",
       "      <td>Violence</td>\n",
       "      <td>3,000</td>\n",
       "    </tr>\n",
       "    <tr>\n",
       "      <th>2</th>\n",
       "      <td>Harmful exposures</td>\n",
       "      <td>2,500</td>\n",
       "    </tr>\n",
       "    <tr>\n",
       "      <th>3</th>\n",
       "      <td>Transportation incidents</td>\n",
       "      <td>2,500</td>\n",
       "    </tr>\n",
       "    <tr>\n",
       "      <th>4</th>\n",
       "      <td>Contact with objects &amp; equipment</td>\n",
       "      <td>2,100</td>\n",
       "    </tr>\n",
       "    <tr>\n",
       "      <th>5</th>\n",
       "      <td>Falls, slips, trips</td>\n",
       "      <td>1,600</td>\n",
       "    </tr>\n",
       "  </tbody>\n",
       "</table>\n",
       "</div>"
      ],
      "text/plain": [
       "                              Event Count (3)\n",
       "0    Overexertion & bodily reaction     5,200\n",
       "1                          Violence     3,000\n",
       "2                 Harmful exposures     2,500\n",
       "3          Transportation incidents     2,500\n",
       "4  Contact with objects & equipment     2,100\n",
       "5               Falls, slips, trips     1,600"
      ]
     },
     "execution_count": 30,
     "metadata": {},
     "output_type": "execute_result"
    }
   ],
   "source": [
    "ems_injuries_event"
   ]
  },
  {
   "cell_type": "code",
   "execution_count": 18,
   "id": "e0a0a770",
   "metadata": {},
   "outputs": [],
   "source": [
    "ems_injuries_source = pd.read_csv('EMS Injury (Source).csv')"
   ]
  },
  {
   "cell_type": "code",
   "execution_count": 19,
   "id": "c6874170",
   "metadata": {},
   "outputs": [
    {
     "data": {
      "text/html": [
       "<div>\n",
       "<style scoped>\n",
       "    .dataframe tbody tr th:only-of-type {\n",
       "        vertical-align: middle;\n",
       "    }\n",
       "\n",
       "    .dataframe tbody tr th {\n",
       "        vertical-align: top;\n",
       "    }\n",
       "\n",
       "    .dataframe thead th {\n",
       "        text-align: right;\n",
       "    }\n",
       "</style>\n",
       "<table border=\"1\" class=\"dataframe\">\n",
       "  <thead>\n",
       "    <tr style=\"text-align: right;\">\n",
       "      <th></th>\n",
       "      <th>Source</th>\n",
       "      <th>Count (4)</th>\n",
       "    </tr>\n",
       "  </thead>\n",
       "  <tbody>\n",
       "    <tr>\n",
       "      <th>0</th>\n",
       "      <td>Persons, plants, animals, &amp; minerals</td>\n",
       "      <td>9,000</td>\n",
       "    </tr>\n",
       "    <tr>\n",
       "      <th>1</th>\n",
       "      <td>Vehicles</td>\n",
       "      <td>4,100</td>\n",
       "    </tr>\n",
       "    <tr>\n",
       "      <th>2</th>\n",
       "      <td>Tools, instruments, and equipment</td>\n",
       "      <td>1,800</td>\n",
       "    </tr>\n",
       "  </tbody>\n",
       "</table>\n",
       "</div>"
      ],
      "text/plain": [
       "                                 Source Count (4)\n",
       "0  Persons, plants, animals, & minerals     9,000\n",
       "1                              Vehicles     4,100\n",
       "2     Tools, instruments, and equipment     1,800"
      ]
     },
     "execution_count": 19,
     "metadata": {},
     "output_type": "execute_result"
    }
   ],
   "source": [
    "ems_injuries_source"
   ]
  },
  {
   "cell_type": "markdown",
   "id": "4ce971ac",
   "metadata": {},
   "source": [
    "In the following section of my report, I will describe and begin to interpret the data. To understand my goal of how enrollment in the EMS field has changed and if it correlates with the risk of injuries in the field, I plan to use a bar plot and/or a pie plot to visualize the data. I am choosing a bar plot or pie plot because since I have multiple, separate sets of data, that are already intrepted (data that is not raw) I can use the data that has been organized to group the different data sets. My hope is to visualize how the data from these different sets might correlate."
   ]
  },
  {
   "cell_type": "code",
   "execution_count": null,
   "id": "eb29f61e",
   "metadata": {},
   "outputs": [],
   "source": [
    "fig1, ax1 = plt.subplots()\n",
    "\n",
    "ax1.pie(polid.values, labels = polid.index)\n",
    "\n",
    "plt.show()"
   ]
  },
  {
   "cell_type": "code",
   "execution_count": null,
   "id": "8d41d33a",
   "metadata": {},
   "outputs": [],
   "source": [
    "fig2, ax2 = plt.subplots()\n",
    "\n",
    "ax5.bar(x = [1, 2, 3], height = )\n",
    "\n",
    "plt.show()"
   ]
  },
  {
   "cell_type": "markdown",
   "id": "4545f646",
   "metadata": {},
   "source": [
    "As this report ends, there are gaps and inadequacies, rendering it incomplete. I believe the data report faced challenges related to completeness, from the necessity to modify the data for better visualization. While I intended to improve the presentation and interpretation of the data, transforming it has introduced complexities that impact the overall ability to interpret the report. \n",
    "\n",
    "Nevertheless, I can make some interpretations based on the data that was collected, stored, and organized. For example, in the table \"ems_projections,\" projected employment from 2022 is expected to grow 5% between now and 2032 for both EMTs and paramedics. By understanding this data, we may be able to conclude that the number and type of injuries in the EMS field may not impact the number of people pursuing a career in the field.\n",
    "\n",
    "The ability to collect data from the CDC about the injuries to EMS workers was a valuable data set. While it showed the number of injuries, gender, age, type of injury, the event that occurred, and how it occurred, it was difficult to use each of the data frames to construct a graph, chat, plot, or diagram to completely find an answer to my question. \n",
    "\n",
    "If I had to make an estimate, I would say that the number and type of injuries that occur in the field of EMS somewhat but not fully, relate to the number of people pursuing a career in EMS. I would guesstimate this because no one wants to get injured in their job/line of work. This may have impacted some people's decision to choose EMS as a career because they fear injury. This is a very logical concept. However, the field of health care and EMS is also rewarding. The ability to help people and positively impact their lives, despite your own, may be enough for some people to overcome their fears and step into the line of service. \n",
    "\n",
    "If I were to return to this data report in the future, I think there would be quite a few things I would change because of the limitations I had. I strongly believe that my question and goal for the project were one of value. Attempting to understand if, how, and why injuries in the EMS field relate to the number of people pursuing a career in the field, is important because we always need more caregivers in the world. With the way our world is today, having more people to serve the community can impact our world and keep people together.\n",
    "\n",
    "However, because of the limitations in my data, I think that I would either need to find more sources of data or find a way to better organize the data. I think that because I had so many separate sheets, it affected my ability to parse through the data and find sets that work correctly with each other. I also think that if I approached the question from a different perspective, I may have been able to find data that would better answer my question. In other words, while I believe my question is purposeful, perhaps gathering data from periods like 1980, 1990, etc., and comparing it to today would change my analysis. The field of EMS has come a long way since 1980 as awareness of injury, mental health, technology, and more have advanced. Therefore, if the number of people pursuing careers in EMS has decreased in recent years, why were they so high many years ago? \n",
    "I think a different approach to my question could be the key to understanding if injuries relate to the pursuit of the EMS or if and what other reasons there may be for the change in the profession.\n",
    "\n",
    "In the end, if the audience were to take away anything from this data report, I believe it would be that while there is risk in the field of healthcare, the benefits outweigh the costs. While this statement may be bais as I am an EMT myself, I think we would all agree that our healthcare workers are some of the strongest people our world has. The ability to put themselves aside for the greater good is something I have admired and is just one of the reasons why I decided to become an EMT. Yes, there is risk in this field as shown by the injury data (CDC), but there are also still people pursuing careers in the field (Labor Statistics)."
   ]
  }
 ],
 "metadata": {
  "kernelspec": {
   "display_name": "Python 3 (ipykernel)",
   "language": "python",
   "name": "python3"
  },
  "language_info": {
   "codemirror_mode": {
    "name": "ipython",
    "version": 3
   },
   "file_extension": ".py",
   "mimetype": "text/x-python",
   "name": "python",
   "nbconvert_exporter": "python",
   "pygments_lexer": "ipython3",
   "version": "3.11.4"
  }
 },
 "nbformat": 4,
 "nbformat_minor": 5
}
